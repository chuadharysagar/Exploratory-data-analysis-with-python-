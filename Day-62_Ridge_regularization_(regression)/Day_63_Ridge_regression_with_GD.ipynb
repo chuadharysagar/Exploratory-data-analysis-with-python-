{
  "nbformat": 4,
  "nbformat_minor": 0,
  "metadata": {
    "colab": {
      "provenance": []
    },
    "kernelspec": {
      "name": "python3",
      "display_name": "Python 3"
    },
    "language_info": {
      "name": "python"
    }
  },
  "cells": [
    {
      "cell_type": "markdown",
      "source": [
        "# IN this notebook we will see the implementatio of the ride regression from the scartch with the gradietn descent and the sklearn ridge regression with GD technique"
      ],
      "metadata": {
        "id": "sgNU0vB5ZkeC"
      }
    },
    {
      "cell_type": "code",
      "execution_count": 3,
      "metadata": {
        "id": "N1_V0_7HUs_z"
      },
      "outputs": [],
      "source": [
        "import numpy as np\n",
        "from sklearn.datasets import load_diabetes\n",
        "from sklearn.metrics import r2_score\n"
      ]
    },
    {
      "cell_type": "code",
      "source": [
        "X,y = load_diabetes(return_X_y=True)"
      ],
      "metadata": {
        "id": "TI0I_8dqU5Tf"
      },
      "execution_count": 4,
      "outputs": []
    },
    {
      "cell_type": "code",
      "source": [
        "from sklearn.model_selection import train_test_split\n",
        "\n",
        "X_train,X_test,y_train,y_test = train_test_split(X,y,test_size=0.2,random_state=4)"
      ],
      "metadata": {
        "id": "fqztAZOfU7Bg"
      },
      "execution_count": 5,
      "outputs": []
    },
    {
      "cell_type": "code",
      "source": [
        "from sklearn.linear_model import SGDRegressor\n",
        "\n",
        "reg = SGDRegressor(penalty='l2',max_iter=500,eta0=0.1,learning_rate='constant',alpha=0.001)"
      ],
      "metadata": {
        "id": "xPIzfn8JVAgF"
      },
      "execution_count": 6,
      "outputs": []
    },
    {
      "cell_type": "code",
      "source": [
        "reg.fit(X_train,y_train)\n",
        "\n",
        "y_pred = reg.predict(X_test)\n",
        "print(\"R2 score\",r2_score(y_test,y_pred))\n",
        "print(reg.coef_)\n",
        "print(reg.intercept_)"
      ],
      "metadata": {
        "colab": {
          "base_uri": "https://localhost:8080/"
        },
        "id": "xyrl3nEmVJXh",
        "outputId": "538c164f-fe4c-43d2-fa08-546d5cf986e8"
      },
      "execution_count": 7,
      "outputs": [
        {
          "output_type": "stream",
          "name": "stdout",
          "text": [
            "R2 score 0.44154477869689923\n",
            "[  49.06152997 -156.58647416  366.34515832  263.56957492   -5.68925724\n",
            "  -58.09358838 -167.95988809  136.16132255  327.01760527  100.55184879]\n",
            "[146.22404896]\n"
          ]
        }
      ]
    },
    {
      "cell_type": "code",
      "source": [
        "from sklearn.linear_model import Ridge\n",
        "\n",
        "reg = Ridge(alpha=0.001, max_iter=500,solver='sparse_cg')"
      ],
      "metadata": {
        "id": "rumI1CXgVLNd"
      },
      "execution_count": 8,
      "outputs": []
    },
    {
      "cell_type": "code",
      "source": [
        "reg.fit(X_train,y_train)\n",
        "\n",
        "y_pred = reg.predict(X_test)\n",
        "print(\"R2 score\",r2_score(y_test,y_pred))\n",
        "print(reg.coef_)\n",
        "print(reg.intercept_)"
      ],
      "metadata": {
        "colab": {
          "base_uri": "https://localhost:8080/"
        },
        "id": "9uwQs95nVNs2",
        "outputId": "6934305d-ea7e-486e-8ef0-99334432f4a9"
      },
      "execution_count": 9,
      "outputs": [
        {
          "output_type": "stream",
          "name": "stdout",
          "text": [
            "R2 score 0.46250101619914563\n",
            "[  34.52192544 -290.84084076  482.40181344  368.0678662  -852.44873179\n",
            "  501.59160336  180.11115788  270.76333979  759.73534372   37.4913546 ]\n",
            "151.10198517439466\n"
          ]
        }
      ]
    },
    {
      "cell_type": "code",
      "source": [
        "class RidgeGD:\n",
        "\n",
        "  def __init__(self, learning_rate , alpha , epochs):\n",
        "    self.learning_rate = learning_rate\n",
        "    self.alpha = alpha\n",
        "    self.epochs = epochs\n",
        "    self.coef_ = None\n",
        "    self.intercept_ = None\n",
        "\n",
        "  def fit(self,X_train,y_train):\n",
        "    self.coef_ = np.ones(X_train.shape[1])\n",
        "    self.intercept_ = 0\n",
        "    theta = np.insert(self.coef_ , 0 , self.intercept_)\n",
        "\n",
        "    X_train = np.insert(X_train,0,1,axis=1)\n",
        "\n",
        "    for i in range(self.epochs):\n",
        "      theta_der = np.dot(X_train.T,X_train).dot(theta) - np.dot(X_train.T ,y_train) + self.alpha * theta\n",
        "\n",
        "      theta = theta - self.learning_rate * theta_der\n",
        "\n",
        "    self.coef_ = theta[1:]\n",
        "    self.intercept_ = theta[0]\n",
        "\n",
        "  def predict(self,X_test):\n",
        "     return np.dot(X_test,self.coef_) + self.intercept_"
      ],
      "metadata": {
        "id": "QZy5ddi3VRMk"
      },
      "execution_count": 36,
      "outputs": []
    },
    {
      "cell_type": "code",
      "source": [
        "rr = RidgeGD(learning_rate=0.005 , alpha = 0.001 , epochs= 500)"
      ],
      "metadata": {
        "id": "GtbPhsrlXUKg"
      },
      "execution_count": 37,
      "outputs": []
    },
    {
      "cell_type": "code",
      "source": [
        "rr.fit(X_train,y_train)"
      ],
      "metadata": {
        "id": "KlMVahoQXpKk"
      },
      "execution_count": 38,
      "outputs": []
    },
    {
      "cell_type": "code",
      "source": [
        "rr.intercept_"
      ],
      "metadata": {
        "colab": {
          "base_uri": "https://localhost:8080/"
        },
        "id": "iezzJLsPXsdN",
        "outputId": "3ed4f859-12c0-4b61-b8f3-d00f0ba88a77"
      },
      "execution_count": 39,
      "outputs": [
        {
          "output_type": "execute_result",
          "data": {
            "text/plain": [
              "150.86975316713472"
            ]
          },
          "metadata": {},
          "execution_count": 39
        }
      ]
    },
    {
      "cell_type": "code",
      "source": [
        "rr.coef_"
      ],
      "metadata": {
        "colab": {
          "base_uri": "https://localhost:8080/"
        },
        "id": "0tl1lLphZUVG",
        "outputId": "018391c9-9999-4021-a052-ce8829e00ddc"
      },
      "execution_count": 40,
      "outputs": [
        {
          "output_type": "execute_result",
          "data": {
            "text/plain": [
              "array([  46.65050914, -221.3750037 ,  452.12080647,  325.54248128,\n",
              "        -29.09464178,  -96.47517735, -190.90017011,  146.32900372,\n",
              "        400.80267299,   95.09048094])"
            ]
          },
          "metadata": {},
          "execution_count": 40
        }
      ]
    },
    {
      "cell_type": "code",
      "source": [
        "r2_score(y_test,rr.predict(X_test))"
      ],
      "metadata": {
        "colab": {
          "base_uri": "https://localhost:8080/"
        },
        "id": "bDLh-ooXZWvX",
        "outputId": "70e78f95-2fc6-4000-d4cc-f8feefc49bb5"
      },
      "execution_count": 41,
      "outputs": [
        {
          "output_type": "execute_result",
          "data": {
            "text/plain": [
              "0.4738018280260913"
            ]
          },
          "metadata": {},
          "execution_count": 41
        }
      ]
    },
    {
      "cell_type": "code",
      "source": [],
      "metadata": {
        "id": "cIreG7k6ZisY"
      },
      "execution_count": null,
      "outputs": []
    }
  ]
}