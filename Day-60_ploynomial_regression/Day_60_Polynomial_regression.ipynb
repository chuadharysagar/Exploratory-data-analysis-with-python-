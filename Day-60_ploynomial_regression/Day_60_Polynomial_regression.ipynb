{
  "nbformat": 4,
  "nbformat_minor": 0,
  "metadata": {
    "colab": {
      "provenance": []
    },
    "kernelspec": {
      "name": "python3",
      "display_name": "Python 3"
    },
    "language_info": {
      "name": "python"
    }
  },
  "cells": [
    {
      "cell_type": "markdown",
      "source": [
        "# Note :\n",
        "## In this note book we will see About the ploynomial linear regression and the underfitting and the underfitting situation in ploynomial regression with respect to the degree applied on the equation"
      ],
      "metadata": {
        "id": "cFbOVz4p7qst"
      }
    },
    {
      "cell_type": "code",
      "execution_count": 2,
      "metadata": {
        "id": "OY3TfTzP6tCw"
      },
      "outputs": [],
      "source": [
        "import numpy as np\n",
        "import pandas as pd\n"
      ]
    },
    {
      "cell_type": "code",
      "source": [
        "import matplotlib.pyplot as plt\n",
        "from sklearn.model_selection import train_test_split\n",
        "from sklearn.linear_model import LinearRegression , SGDRegressor\n",
        "from sklearn.preprocessing import PolynomialFeatures , StandardScaler\n",
        "from sklearn.metrics import r2_score\n",
        "from sklearn.pipeline import Pipeline"
      ],
      "metadata": {
        "id": "UytTOmkJ69z-"
      },
      "execution_count": 3,
      "outputs": []
    },
    {
      "cell_type": "code",
      "source": [
        "# let's create our own data\n",
        "X = 6 * np.random.rand(200, 1) - 3\n",
        "y = 0.8 * X**2 + 0.9 * X + 2 + np.random.randn(200, 1)\n",
        "# y = 0.8x^2 + 0.9x + 2\n"
      ],
      "metadata": {
        "id": "-hzb8Ink7ozj"
      },
      "execution_count": 4,
      "outputs": []
    },
    {
      "cell_type": "code",
      "source": [
        "plt.plot(X,y,'b.')\n",
        "plt.xlabel(\"X\")\n",
        "plt.ylabel(\"Y\")\n",
        "plt.show()"
      ],
      "metadata": {
        "colab": {
          "base_uri": "https://localhost:8080/",
          "height": 449
        },
        "id": "1RNqDb198Zjz",
        "outputId": "29478d8a-1846-4407-bb6c-7d51d1dd242d"
      },
      "execution_count": 5,
      "outputs": [
        {
          "output_type": "display_data",
          "data": {
            "text/plain": [
              "<Figure size 640x480 with 1 Axes>"
            ],
            "image/png": "[encoded data removed]"
          },
          "metadata": {}
        }
      ]
    },
    {
      "cell_type": "code",
      "source": [
        "# now let's apply the simple linear regression and see the what result we get\n",
        "# train test split of the data\n",
        "X_train,X_test,y_train,y_test = train_test_split(X,y,test_size=0.2,random_state=4)"
      ],
      "metadata": {
        "id": "pq637RZO8bIp"
      },
      "execution_count": 6,
      "outputs": []
    },
    {
      "cell_type": "code",
      "source": [
        "X_train.shape,X_test.shape"
      ],
      "metadata": {
        "colab": {
          "base_uri": "https://localhost:8080/"
        },
        "id": "N45xfMye9Vxy",
        "outputId": "5bacc160-9e50-41da-cfe2-f2d7a254501d"
      },
      "execution_count": 7,
      "outputs": [
        {
          "output_type": "execute_result",
          "data": {
            "text/plain": [
              "((160, 1), (40, 1))"
            ]
          },
          "metadata": {},
          "execution_count": 7
        }
      ]
    },
    {
      "cell_type": "code",
      "source": [
        "lr = LinearRegression()\n",
        "lr.fit(X_train,y_train)"
      ],
      "metadata": {
        "colab": {
          "base_uri": "https://localhost:8080/",
          "height": 74
        },
        "id": "kswNK9QC9W7I",
        "outputId": "2a0c743e-e84d-4743-91f2-c33af15de605"
      },
      "execution_count": 8,
      "outputs": [
        {
          "output_type": "execute_result",
          "data": {
            "text/plain": [
              "LinearRegression()"
            ],
            "text/html": [
              "<style>#sk-container-id-1 {color: black;background-color: white;}#sk-container-id-1 pre{padding: 0;}#sk-container-id-1 div.sk-toggleable {background-color: white;}#sk-container-id-1 label.sk-toggleable__label {cursor: pointer;display: block;width: 100%;margin-bottom: 0;padding: 0.3em;box-sizing: border-box;text-align: center;}#sk-container-id-1 label.sk-toggleable__label-arrow:before {content: \"▸\";float: left;margin-right: 0.25em;color: #696969;}#sk-container-id-1 label.sk-toggleable__label-arrow:hover:before {color: black;}#sk-container-id-1 div.sk-estimator:hover label.sk-toggleable__label-arrow:before {color: black;}#sk-container-id-1 div.sk-toggleable__content {max-height: 0;max-width: 0;overflow: hidden;text-align: left;background-color: #f0f8ff;}#sk-container-id-1 div.sk-toggleable__content pre {margin: 0.2em;color: black;border-radius: 0.25em;background-color: #f0f8ff;}#sk-container-id-1 input.sk-toggleable__control:checked~div.sk-toggleable__content {max-height: 200px;max-width: 100%;overflow: auto;}#sk-container-id-1 input.sk-toggleable__control:checked~label.sk-toggleable__label-arrow:before {content: \"▾\";}#sk-container-id-1 div.sk-estimator input.sk-toggleable__control:checked~label.sk-toggleable__label {background-color: #d4ebff;}#sk-container-id-1 div.sk-label input.sk-toggleable__control:checked~label.sk-toggleable__label {background-color: #d4ebff;}#sk-container-id-1 input.sk-hidden--visually {border: 0;clip: rect(1px 1px 1px 1px);clip: rect(1px, 1px, 1px, 1px);height: 1px;margin: -1px;overflow: hidden;padding: 0;position: absolute;width: 1px;}#sk-container-id-1 div.sk-estimator {font-family: monospace;background-color: #f0f8ff;border: 1px dotted black;border-radius: 0.25em;box-sizing: border-box;margin-bottom: 0.5em;}#sk-container-id-1 div.sk-estimator:hover {background-color: #d4ebff;}#sk-container-id-1 div.sk-parallel-item::after {content: \"\";width: 100%;border-bottom: 1px solid gray;flex-grow: 1;}#sk-container-id-1 div.sk-label:hover label.sk-toggleable__label {background-color: #d4ebff;}#sk-container-id-1 div.sk-serial::before {content: \"\";position: absolute;border-left: 1px solid gray;box-sizing: border-box;top: 0;bottom: 0;left: 50%;z-index: 0;}#sk-container-id-1 div.sk-serial {display: flex;flex-direction: column;align-items: center;background-color: white;padding-right: 0.2em;padding-left: 0.2em;position: relative;}#sk-container-id-1 div.sk-item {position: relative;z-index: 1;}#sk-container-id-1 div.sk-parallel {display: flex;align-items: stretch;justify-content: center;background-color: white;position: relative;}#sk-container-id-1 div.sk-item::before, #sk-container-id-1 div.sk-parallel-item::before {content: \"\";position: absolute;border-left: 1px solid gray;box-sizing: border-box;top: 0;bottom: 0;left: 50%;z-index: -1;}#sk-container-id-1 div.sk-parallel-item {display: flex;flex-direction: column;z-index: 1;position: relative;background-color: white;}#sk-container-id-1 div.sk-parallel-item:first-child::after {align-self: flex-end;width: 50%;}#sk-container-id-1 div.sk-parallel-item:last-child::after {align-self: flex-start;width: 50%;}#sk-container-id-1 div.sk-parallel-item:only-child::after {width: 0;}#sk-container-id-1 div.sk-dashed-wrapped {border: 1px dashed gray;margin: 0 0.4em 0.5em 0.4em;box-sizing: border-box;padding-bottom: 0.4em;background-color: white;}#sk-container-id-1 div.sk-label label {font-family: monospace;font-weight: bold;display: inline-block;line-height: 1.2em;}#sk-container-id-1 div.sk-label-container {text-align: center;}#sk-container-id-1 div.sk-container {/* jupyter's `normalize.less` sets `[hidden] { display: none; }` but bootstrap.min.css set `[hidden] { display: none !important; }` so we also need the `!important` here to be able to override the default hidden behavior on the sphinx rendered scikit-learn.org. See: https://github.com/scikit-learn/scikit-learn/issues/21755 */display: inline-block !important;position: relative;}#sk-container-id-1 div.sk-text-repr-fallback {display: none;}</style><div id=\"sk-container-id-1\" class=\"sk-top-container\"><div class=\"sk-text-repr-fallback\"><pre>LinearRegression()</pre><b>In a Jupyter environment, please rerun this cell to show the HTML representation or trust the notebook. <br />On GitHub, the HTML representation is unable to render, please try loading this page with nbviewer.org.</b></div><div class=\"sk-container\" hidden><div class=\"sk-item\"><div class=\"sk-estimator sk-toggleable\"><input class=\"sk-toggleable__control sk-hidden--visually\" id=\"sk-estimator-id-1\" type=\"checkbox\" checked><label for=\"sk-estimator-id-1\" class=\"sk-toggleable__label sk-toggleable__label-arrow\">LinearRegression</label><div class=\"sk-toggleable__content\"><pre>LinearRegression()</pre></div></div></div></div></div>"
            ]
          },
          "metadata": {},
          "execution_count": 8
        }
      ]
    },
    {
      "cell_type": "code",
      "source": [
        "y_pred = lr.predict(X_test)"
      ],
      "metadata": {
        "id": "s8RJVXpE9jNp"
      },
      "execution_count": 9,
      "outputs": []
    },
    {
      "cell_type": "code",
      "source": [
        "print(\"R2_score for the above model:\",r2_score(y_test,y_pred))"
      ],
      "metadata": {
        "colab": {
          "base_uri": "https://localhost:8080/"
        },
        "id": "LymKt3U09qis",
        "outputId": "2cf41f73-5cc2-42e7-845f-b6e04c023f71"
      },
      "execution_count": 10,
      "outputs": [
        {
          "output_type": "stream",
          "name": "stdout",
          "text": [
            "R2_score for the above model: 0.47290402503414875\n"
          ]
        }
      ]
    },
    {
      "cell_type": "code",
      "source": [
        "# lets check the intecep and the coffient of the model\n",
        "lr.coef_ , lr.intercept_"
      ],
      "metadata": {
        "colab": {
          "base_uri": "https://localhost:8080/"
        },
        "id": "EdI1r9v6AEmM",
        "outputId": "c4927def-40f1-4a2a-e302-e8517bff1560"
      },
      "execution_count": 11,
      "outputs": [
        {
          "output_type": "execute_result",
          "data": {
            "text/plain": [
              "(array([[1.03877069]]), array([4.22421411]))"
            ]
          },
          "metadata": {},
          "execution_count": 11
        }
      ]
    },
    {
      "cell_type": "code",
      "source": [
        "# let's visualize the data for the prediction line\n",
        "plt.plot(X_train,lr.predict(X_train),color='r')\n",
        "plt.plot(X,y,'b.')\n",
        "plt.title(\"Predcition on data\")\n",
        "plt.ylabel(\"Y\")\n",
        "plt.xlabel(\"X\")\n",
        "plt.show()"
      ],
      "metadata": {
        "colab": {
          "base_uri": "https://localhost:8080/",
          "height": 472
        },
        "id": "_q4GLr3k9z1V",
        "outputId": "a5869bfa-7e1f-484f-fa20-ca4be52f17ba"
      },
      "execution_count": 12,
      "outputs": [
        {
          "output_type": "display_data",
          "data": {
            "text/plain": [
              "<Figure size 640x480 with 1 Axes>"
            ],
            "image/png": "[encoded data removed]"
          },
          "metadata": {}
        }
      ]
    },
    {
      "cell_type": "code",
      "source": [
        "# now let's apply the ploynomial feature to tranform the data into ploiynomial from\n",
        "poly = PolynomialFeatures(degree= 2 ,include_bias = True)  # if include bias is fasle then X to power 0 will be not included if true then it will be included\n",
        "X_train_trf = poly.fit_transform(X_train)\n",
        "X_test_trf = poly.transform(X_test)"
      ],
      "metadata": {
        "id": "sXv6m4Pe-QZB"
      },
      "execution_count": 13,
      "outputs": []
    },
    {
      "cell_type": "code",
      "source": [
        "X_train_trf[0]"
      ],
      "metadata": {
        "colab": {
          "base_uri": "https://localhost:8080/"
        },
        "id": "tJFxr4xy_Wr9",
        "outputId": "cb4dfe8a-2f2f-4abe-e465-7e97aa308e70"
      },
      "execution_count": 14,
      "outputs": [
        {
          "output_type": "execute_result",
          "data": {
            "text/plain": [
              "array([1.        , 0.88351312, 0.78059544])"
            ]
          },
          "metadata": {},
          "execution_count": 14
        }
      ]
    },
    {
      "cell_type": "code",
      "source": [
        "# okay now again let's train the model again on the ploynomial data\n",
        "rgr = LinearRegression()\n",
        "rgr.fit(X_train_trf,y_train)"
      ],
      "metadata": {
        "colab": {
          "base_uri": "https://localhost:8080/",
          "height": 74
        },
        "id": "Ml-CouwU_sdp",
        "outputId": "c1aa6ac1-34c1-485d-f262-ebc16413df74"
      },
      "execution_count": 15,
      "outputs": [
        {
          "output_type": "execute_result",
          "data": {
            "text/plain": [
              "LinearRegression()"
            ],
            "text/html": [
              "<style>#sk-container-id-2 {color: black;background-color: white;}#sk-container-id-2 pre{padding: 0;}#sk-container-id-2 div.sk-toggleable {background-color: white;}#sk-container-id-2 label.sk-toggleable__label {cursor: pointer;display: block;width: 100%;margin-bottom: 0;padding: 0.3em;box-sizing: border-box;text-align: center;}#sk-container-id-2 label.sk-toggleable__label-arrow:before {content: \"▸\";float: left;margin-right: 0.25em;color: #696969;}#sk-container-id-2 label.sk-toggleable__label-arrow:hover:before {color: black;}#sk-container-id-2 div.sk-estimator:hover label.sk-toggleable__label-arrow:before {color: black;}#sk-container-id-2 div.sk-toggleable__content {max-height: 0;max-width: 0;overflow: hidden;text-align: left;background-color: #f0f8ff;}#sk-container-id-2 div.sk-toggleable__content pre {margin: 0.2em;color: black;border-radius: 0.25em;background-color: #f0f8ff;}#sk-container-id-2 input.sk-toggleable__control:checked~div.sk-toggleable__content {max-height: 200px;max-width: 100%;overflow: auto;}#sk-container-id-2 input.sk-toggleable__control:checked~label.sk-toggleable__label-arrow:before {content: \"▾\";}#sk-container-id-2 div.sk-estimator input.sk-toggleable__control:checked~label.sk-toggleable__label {background-color: #d4ebff;}#sk-container-id-2 div.sk-label input.sk-toggleable__control:checked~label.sk-toggleable__label {background-color: #d4ebff;}#sk-container-id-2 input.sk-hidden--visually {border: 0;clip: rect(1px 1px 1px 1px);clip: rect(1px, 1px, 1px, 1px);height: 1px;margin: -1px;overflow: hidden;padding: 0;position: absolute;width: 1px;}#sk-container-id-2 div.sk-estimator {font-family: monospace;background-color: #f0f8ff;border: 1px dotted black;border-radius: 0.25em;box-sizing: border-box;margin-bottom: 0.5em;}#sk-container-id-2 div.sk-estimator:hover {background-color: #d4ebff;}#sk-container-id-2 div.sk-parallel-item::after {content: \"\";width: 100%;border-bottom: 1px solid gray;flex-grow: 1;}#sk-container-id-2 div.sk-label:hover label.sk-toggleable__label {background-color: #d4ebff;}#sk-container-id-2 div.sk-serial::before {content: \"\";position: absolute;border-left: 1px solid gray;box-sizing: border-box;top: 0;bottom: 0;left: 50%;z-index: 0;}#sk-container-id-2 div.sk-serial {display: flex;flex-direction: column;align-items: center;background-color: white;padding-right: 0.2em;padding-left: 0.2em;position: relative;}#sk-container-id-2 div.sk-item {position: relative;z-index: 1;}#sk-container-id-2 div.sk-parallel {display: flex;align-items: stretch;justify-content: center;background-color: white;position: relative;}#sk-container-id-2 div.sk-item::before, #sk-container-id-2 div.sk-parallel-item::before {content: \"\";position: absolute;border-left: 1px solid gray;box-sizing: border-box;top: 0;bottom: 0;left: 50%;z-index: -1;}#sk-container-id-2 div.sk-parallel-item {display: flex;flex-direction: column;z-index: 1;position: relative;background-color: white;}#sk-container-id-2 div.sk-parallel-item:first-child::after {align-self: flex-end;width: 50%;}#sk-container-id-2 div.sk-parallel-item:last-child::after {align-self: flex-start;width: 50%;}#sk-container-id-2 div.sk-parallel-item:only-child::after {width: 0;}#sk-container-id-2 div.sk-dashed-wrapped {border: 1px dashed gray;margin: 0 0.4em 0.5em 0.4em;box-sizing: border-box;padding-bottom: 0.4em;background-color: white;}#sk-container-id-2 div.sk-label label {font-family: monospace;font-weight: bold;display: inline-block;line-height: 1.2em;}#sk-container-id-2 div.sk-label-container {text-align: center;}#sk-container-id-2 div.sk-container {/* jupyter's `normalize.less` sets `[hidden] { display: none; }` but bootstrap.min.css set `[hidden] { display: none !important; }` so we also need the `!important` here to be able to override the default hidden behavior on the sphinx rendered scikit-learn.org. See: https://github.com/scikit-learn/scikit-learn/issues/21755 */display: inline-block !important;position: relative;}#sk-container-id-2 div.sk-text-repr-fallback {display: none;}</style><div id=\"sk-container-id-2\" class=\"sk-top-container\"><div class=\"sk-text-repr-fallback\"><pre>LinearRegression()</pre><b>In a Jupyter environment, please rerun this cell to show the HTML representation or trust the notebook. <br />On GitHub, the HTML representation is unable to render, please try loading this page with nbviewer.org.</b></div><div class=\"sk-container\" hidden><div class=\"sk-item\"><div class=\"sk-estimator sk-toggleable\"><input class=\"sk-toggleable__control sk-hidden--visually\" id=\"sk-estimator-id-2\" type=\"checkbox\" checked><label for=\"sk-estimator-id-2\" class=\"sk-toggleable__label sk-toggleable__label-arrow\">LinearRegression</label><div class=\"sk-toggleable__content\"><pre>LinearRegression()</pre></div></div></div></div></div>"
            ]
          },
          "metadata": {},
          "execution_count": 15
        }
      ]
    },
    {
      "cell_type": "code",
      "source": [
        "y_pred_trf = rgr.predict(X_test_trf)"
      ],
      "metadata": {
        "id": "T2gqucp-AXn8"
      },
      "execution_count": 16,
      "outputs": []
    },
    {
      "cell_type": "code",
      "source": [
        "print(\"R2_score after the tranformation: \",r2_score(y_test,y_pred_trf))"
      ],
      "metadata": {
        "colab": {
          "base_uri": "https://localhost:8080/"
        },
        "id": "zlrXqyTsAg9o",
        "outputId": "e3fb2971-e0e6-4447-e80f-d7cf3e3a163a"
      },
      "execution_count": 17,
      "outputs": [
        {
          "output_type": "stream",
          "name": "stdout",
          "text": [
            "R2_score after the tranformation:  0.9181688401382385\n"
          ]
        }
      ]
    },
    {
      "cell_type": "markdown",
      "source": [
        "## We can cleary see that the drastical improvment in the model after the transformation of the data into ploynomial"
      ],
      "metadata": {
        "id": "e1rlWN2FAtCx"
      }
    },
    {
      "cell_type": "code",
      "source": [
        "# new intercept ans the cofficient of the model are\n",
        "rgr.intercept_,rgr.coef_"
      ],
      "metadata": {
        "colab": {
          "base_uri": "https://localhost:8080/"
        },
        "id": "7EIHkeq0Aq5B",
        "outputId": "d04b6d10-fa63-46a5-c2f8-4889eb4d6945"
      },
      "execution_count": 18,
      "outputs": [
        {
          "output_type": "execute_result",
          "data": {
            "text/plain": [
              "(array([2.0248199]), array([[0.        , 0.83175708, 0.7954634 ]]))"
            ]
          },
          "metadata": {},
          "execution_count": 18
        }
      ]
    },
    {
      "cell_type": "code",
      "source": [
        "# now let's plot the graph for the transformed data\n",
        "X_new=np.linspace(-3, 3, 200).reshape(200, 1)\n",
        "X_new_poly = poly.transform(X_new)\n",
        "y_new = rgr.predict(X_new_poly)"
      ],
      "metadata": {
        "id": "x3QvjVYsBB5E"
      },
      "execution_count": 19,
      "outputs": []
    },
    {
      "cell_type": "code",
      "source": [
        "plt.plot(X_new, y_new, \"r-\", linewidth=2, label=\"Predictions\")\n",
        "plt.plot(X_train, y_train, \"b.\",label='Training points')\n",
        "plt.plot(X_test, y_test, \"g.\",label='Testing points')\n",
        "plt.xlabel(\"X\")\n",
        "plt.ylabel(\"y\")\n",
        "plt.legend()\n",
        "plt.show()"
      ],
      "metadata": {
        "colab": {
          "base_uri": "https://localhost:8080/",
          "height": 449
        },
        "id": "qkxAn8T2BuB8",
        "outputId": "df4b8ad9-8f71-47c7-8292-f848c3e5d56e"
      },
      "execution_count": 20,
      "outputs": [
        {
          "output_type": "display_data",
          "data": {
            "text/plain": [
              "<Figure size 640x480 with 1 Axes>"
            ],
            "image/png": "[encoded data removed]"
          },
          "metadata": {}
        }
      ]
    },
    {
      "cell_type": "code",
      "source": [
        "def polynomial_regression(degree):\n",
        "    X_new=np.linspace(-3, 3, 100).reshape(100, 1)\n",
        "    X_new_poly = poly.transform(X_new)\n",
        "\n",
        "    polybig_features = PolynomialFeatures(degree=degree, include_bias=False)\n",
        "    std_scaler = StandardScaler()\n",
        "    lin_reg = LinearRegression()\n",
        "    polynomial_regression = Pipeline([\n",
        "            (\"poly_features\", polybig_features),\n",
        "            (\"std_scaler\", std_scaler),\n",
        "            (\"lin_reg\", lin_reg),\n",
        "        ])\n",
        "    polynomial_regression.fit(X, y)\n",
        "    y_newbig = polynomial_regression.predict(X_new)\n",
        "    plt.plot(X_new, y_newbig,'r', label=\"Degree \" + str(degree), linewidth=2)\n",
        "\n",
        "    plt.plot(X_train, y_train, \"b.\", linewidth=3)\n",
        "    plt.plot(X_test, y_test, \"g.\", linewidth=3)\n",
        "    plt.legend(loc=\"upper left\")\n",
        "    plt.xlabel(\"X\")\n",
        "    plt.ylabel(\"y\")\n",
        "    plt.axis([-3, 3, 0, 10])\n",
        "    plt.show()"
      ],
      "metadata": {
        "id": "btf5IzJuB_qq"
      },
      "execution_count": 21,
      "outputs": []
    },
    {
      "cell_type": "code",
      "source": [
        "#function to check and visulize the degree of the polynomial feature\n",
        "polynomial_regression(100)"
      ],
      "metadata": {
        "colab": {
          "base_uri": "https://localhost:8080/",
          "height": 455
        },
        "id": "TjEPyk6yCXdq",
        "outputId": "41a26b6a-76ac-414a-fc75-b926a761baa4"
      },
      "execution_count": 22,
      "outputs": [
        {
          "output_type": "display_data",
          "data": {
            "text/plain": [
              "<Figure size 640x480 with 1 Axes>"
            ],
            "image/png": "[encoded data removed]"
          },
          "metadata": {}
        }
      ]
    },
    {
      "cell_type": "markdown",
      "source": [
        "# when we apply the gradient descent\n"
      ],
      "metadata": {
        "id": "8sSVl6YKpN3q"
      }
    },
    {
      "cell_type": "code",
      "source": [
        "# Applying Gradient Descent\n",
        "\n",
        "poly = PolynomialFeatures(degree=2)\n",
        "\n",
        "X_train_trans = poly.fit_transform(X_train)\n",
        "X_test_trans = poly.transform(X_test)\n",
        "\n",
        "sgd = SGDRegressor(max_iter=100)\n",
        "sgd.fit(X_train_trans,y_train)\n",
        "\n",
        "X_new=np.linspace(-2.9, 2.8, 200).reshape(200, 1)\n",
        "X_new_poly = poly.transform(X_new)\n",
        "y_new = sgd.predict(X_new_poly)\n",
        "\n",
        "y_pred = sgd.predict(X_test_trans)\n",
        "\n",
        "plt.plot(X_new, y_new, \"r-\", linewidth=2, label=\"Predictions \" + str(round(r2_score(y_test,y_pred),2)))\n",
        "plt.plot(X_train, y_train, \"b.\",label='Training points')\n",
        "plt.plot(X_test, y_test, \"g.\",label='Testing points')\n",
        "plt.xlabel(\"X\")\n",
        "plt.ylabel(\"y\")\n",
        "plt.legend()\n",
        "plt.show()"
      ],
      "metadata": {
        "colab": {
          "base_uri": "https://localhost:8080/",
          "height": 522
        },
        "id": "ZKkFkTzJpVst",
        "outputId": "db10d8ee-f14e-4802-842c-de67ecfc3871"
      },
      "execution_count": 37,
      "outputs": [
        {
          "output_type": "stream",
          "name": "stderr",
          "text": [
            "/usr/local/lib/python3.10/dist-packages/sklearn/utils/validation.py:1143: DataConversionWarning:\n",
            "\n",
            "A column-vector y was passed when a 1d array was expected. Please change the shape of y to (n_samples, ), for example using ravel().\n",
            "\n"
          ]
        },
        {
          "output_type": "display_data",
          "data": {
            "text/plain": [
              "<Figure size 640x480 with 1 Axes>"
            ],
            "image/png": "[encoded data removed]"
          },
          "metadata": {}
        }
      ]
    },
    {
      "cell_type": "markdown",
      "source": [
        "# 3D PLOYNOMIAL REGRESSION"
      ],
      "metadata": {
        "id": "ewaETLExn0I2"
      }
    },
    {
      "cell_type": "code",
      "source": [
        "# creating th eequation\n",
        "# 3D polynomial regression\n",
        "x = 7 * np.random.rand(100, 1) - 2.8\n",
        "y = 7 * np.random.rand(100, 1) - 2.8\n",
        "\n",
        "z = x**2 + y**2 + 0.2*x + 0.2*y + 0.1*x*y +2 + np.random.randn(100, 1)\n",
        "# z = x^2 + y^2 + 0.2x + 0.2y + 0.1xy + 2"
      ],
      "metadata": {
        "id": "USzrYCJTCbky"
      },
      "execution_count": 23,
      "outputs": []
    },
    {
      "cell_type": "code",
      "source": [
        "import plotly.express as px\n",
        "df = px.data.iris()\n",
        "fig = px.scatter_3d(df, x=x.ravel(), y=y.ravel(), z=z.ravel())\n",
        "fig.show()"
      ],
      "metadata": {
        "colab": {
          "base_uri": "https://localhost:8080/",
          "height": 542
        },
        "id": "ussjvFyvn9KC",
        "outputId": "47a2bd48-d570-4830-dab4-d5eec8c884bb"
      },
      "execution_count": 24,
      "outputs": [
        {
          "output_type": "display_data",
          "data": {
            "text/html": [
              "<html>\n",
              "<head><meta charset=\"utf-8\" /></head>\n",
              "<body>\n",
              "    <div>            <script src=\"https://cdnjs.cloudflare.com/ajax/libs/mathjax/2.7.5/MathJax.js?config=TeX-AMS-MML_SVG\"></script><script type=\"text/javascript\">if (window.MathJax && window.MathJax.Hub && window.MathJax.Hub.Config) {window.MathJax.Hub.Config({SVG: {font: \"STIX-Web\"}});}</script>                <script type=\"text/javascript\">window.PlotlyConfig = {MathJaxConfig: 'local'};</script>\n",
              "        <script charset=\"utf-8\" src=\"https://cdn.plot.ly/plotly-2.24.1.min.js\"></script>                <div id=\"d42f962e-b56f-44e7-9901-ef4357a00a91\" class=\"plotly-graph-div\" style=\"height:525px; width:100%;\"></div>            <script type=\"text/javascript\">                                    window.PLOTLYENV=window.PLOTLYENV || {};                                    if (document.getElementById(\"d42f962e-b56f-44e7-9901-ef4357a00a91\")) {                    Plotly.newPlot(                        \"d42f962e-b56f-44e7-9901-ef4357a00a91\",                        [{\"hovertemplate\":\"x=%{x}\\u003cbr\\u003ey=%{y}\\u003cbr\\u003ez=%{z}\\u003cextra\\u003e\\u003c\\u002fextra\\u003e\",\"legendgroup\":\"\",\"marker\":{\"color\":\"#636efa\",\"symbol\":\"circle\"},\"mode\":\"markers\",\"name\":\"\",\"scene\":\"scene\",\"showlegend\":false,\"x\":[-1.572321136871631,0.000374635831355441,-2.522057248451837,-1.6644308089101814,2.8735804979623945,0.6541424832536658,-0.06227320327534924,2.985236626159211,-2.6060767607696897,0.5250689213561386,-0.5487149216064249,2.598913993478889,2.294337227452968,-0.4682280015390101,-0.02069683291228719,-2.7978452404870455,1.4047702625400458,0.39829309845036054,0.9218345720450496,-2.7657934448320733,-2.5689144514901345,1.9725604478902294,0.7930356554281657,3.4516102119698857,-1.0659029933181507,-1.1397118370748553,0.7276286829933745,1.3776573792489346,-2.5807453498291526,1.795209743186212,2.9421648506620057,2.4920040101864247,0.45697188826950397,3.141665336652281,4.1025416401753985,-0.8993428196270625,-2.1034648278776285,3.4678531075176764,-0.37380963262428013,3.5895456237065995,1.3975979922169097,1.079850145077704,1.8515371979919157,0.21609379483543956,-1.5308252286434272,3.7854408992038797,-1.40934429243513,2.526267303961924,-1.7434462788804004,3.7166345427800307,0.5621343738614542,4.104172930310648,-1.5124417799913217,3.899728592542318,1.014831855716272,-2.121018687618615,3.1807072952830913,-0.04771021358639782,1.7871790453213583,-1.7135095264187576,0.8819295011585027,-0.426771054555215,2.814606610718749,2.3168173297460886,3.3083207227729945,1.2783955999373342,3.334262710678683,-2.058617551832438,-2.6344462557181982,0.7280087605373549,2.721623219763625,-1.88434643388087,-0.9294805866517031,2.933733904358774,-1.2732080502125647,2.979575589356344,0.14833189153942428,3.2536861692134824,-0.19325841737813132,-2.4271099037353343,-1.3023670840211887,3.140553847215892,-0.2659267159109935,-0.9303920373690215,-0.8728802070391484,2.69492765831959,-2.1313495571120904,2.2040288811468534,2.3074262571606408,3.6028799621668526,-1.8214144432738981,2.1532228241033176,2.6408535134347435,2.330189491397598,0.9986120224778423,-1.7351530496116525,1.1293428996524355,3.336191139219083,4.008006203339949,3.7519714392715224],\"y\":[-2.4643113276783737,-2.308897783070163,1.2607803994263778,3.8159548344513494,3.7304410472607445,2.2375067328802816,0.01890963073312868,3.486400740195198,-2.74262579623136,0.8264629922689029,-0.05478823481649009,-1.1312979542175068,-1.8750835620465462,0.5255183388596003,2.197325535809651,-0.5040693611780149,2.4186270158757397,0.6892799729637442,3.894579247875095,1.411400988577033,3.6742096779729954,-1.1284993101253833,-0.8566610771551426,2.375481345186148,3.486056887002187,3.448472392966573,2.3766129187899407,3.6316857974156544,2.750633900236525,2.796375872552195,-1.062838275369189,-1.1766699067249473,3.81809830311619,3.566244548894427,-0.05803895225217692,-2.5160691375202586,3.9867869323433345,-0.757708528751456,-1.1073622044511868,2.571349545861934,2.5029000048231307,-2.165543003769079,1.8066209595632863,3.230873762713302,-2.214643430413789,1.2040363967864218,2.8968407811018366,0.09804254397866297,3.4725215015614905,-2.536761353775491,0.6332176382221846,2.326046274119106,-0.050271298693873145,-0.9074344675132657,3.4849919778472565,-0.4662297939758737,-1.336360330301514,0.527879779040449,0.10248283684065784,-0.7093788698034849,-2.7634155937915414,-2.751488458641842,-1.3476152028300206,2.8337416637810557,1.6063073022345629,2.9306792172446903,-1.2942343279549324,1.2476543060166128,2.370406705742062,1.6367326429667424,2.3130234244564214,0.5156389849413934,0.8939995884680285,-0.44042133737337874,1.3171137034206568,2.902985833075973,-1.895164855342168,3.035252805580754,1.28647530082206,2.019713940233607,0.8763224070677436,-2.0026819411656884,0.6739345618689243,1.1914124317234678,3.9873360063941936,2.6306825521190644,-0.4949991944626717,3.135105168231479,4.124409926018755,3.454749961618737,0.9330865460851863,3.125429042920545,2.345388698620522,3.4039404454737348,0.3316974801853405,0.7242662878735979,0.1984601445746792,-1.4868410670872567,2.161523698826004,-1.9405552732341957],\"z\":[10.538564017520791,6.013094409823752,9.690039393953967,20.185701286630625,27.38248059780589,7.928017798864784,1.7084118282745042,26.560329812417088,16.983292553031013,2.9206384450190503,1.8810266320317621,8.597200750105474,11.017019633162711,5.474596562555955,7.80274691076713,9.555708479370804,10.555931030852758,5.2666018512253014,17.99140618631354,10.297348668078078,21.382806740326412,5.2713114345669165,1.8785387137010725,22.382478074913305,15.405629086837514,15.858679815124232,9.326699904859725,20.23296327506579,16.858046961796354,13.810837656976098,12.481013596456927,8.250096249252902,15.956960288115807,26.058157876547803,18.408015213383017,9.047209778852258,22.602793323760903,13.133442366996512,2.3801704056167075,25.329059278193828,13.56577103246386,7.376539117772467,9.147846329057696,13.546750153217339,9.092927980027612,20.36108152688399,13.118003272574484,7.9762713076122065,18.676550647614242,20.13984713475363,2.49687855903875,26.95495151485228,5.7120390780881145,18.424921545421082,16.201595456582115,6.934158518616693,13.207313638972641,2.3868604859826146,5.3854083174512315,6.848765895076291,8.941352880474794,9.190302224179053,11.03541333233494,18.444291213310652,17.428824156099573,12.828913896349912,16.314034386606913,7.56526503360229,15.208683738989667,4.8753451946781645,15.181296608228251,7.146925828466456,3.3359175301667694,10.252808541224432,3.577657678356574,20.80889189911227,6.458454906917231,23.803832617518,3.838668001989807,10.91071667848819,4.826957543670724,16.158816929424948,0.9579945530574216,5.322656676122366,19.603030666974032,17.65953722755904,5.931285483486971,19.177683375694006,27.416487847341617,29.55720983471239,6.4393769103996235,17.8829873862418,14.87136455008886,18.78872924933789,4.061773508741798,5.076185565402836,1.6852849040937974,14.990337373468346,23.878629291550425,20.495302220823145],\"type\":\"scatter3d\"}],                        {\"template\":{\"data\":{\"histogram2dcontour\":[{\"type\":\"histogram2dcontour\",\"colorbar\":{\"outlinewidth\":0,\"ticks\":\"\"},\"colorscale\":[[0.0,\"#0d0887\"],[0.1111111111111111,\"#46039f\"],[0.2222222222222222,\"#7201a8\"],[0.3333333333333333,\"#9c179e\"],[0.4444444444444444,\"#bd3786\"],[0.5555555555555556,\"#d8576b\"],[0.6666666666666666,\"#ed7953\"],[0.7777777777777778,\"#fb9f3a\"],[0.8888888888888888,\"#fdca26\"],[1.0,\"#f0f921\"]]}],\"choropleth\":[{\"type\":\"choropleth\",\"colorbar\":{\"outlinewidth\":0,\"ticks\":\"\"}}],\"histogram2d\":[{\"type\":\"histogram2d\",\"colorbar\":{\"outlinewidth\":0,\"ticks\":\"\"},\"colorscale\":[[0.0,\"#0d0887\"],[0.1111111111111111,\"#46039f\"],[0.2222222222222222,\"#7201a8\"],[0.3333333333333333,\"#9c179e\"],[0.4444444444444444,\"#bd3786\"],[0.5555555555555556,\"#d8576b\"],[0.6666666666666666,\"#ed7953\"],[0.7777777777777778,\"#fb9f3a\"],[0.8888888888888888,\"#fdca26\"],[1.0,\"#f0f921\"]]}],\"heatmap\":[{\"type\":\"heatmap\",\"colorbar\":{\"outlinewidth\":0,\"ticks\":\"\"},\"colorscale\":[[0.0,\"#0d0887\"],[0.1111111111111111,\"#46039f\"],[0.2222222222222222,\"#7201a8\"],[0.3333333333333333,\"#9c179e\"],[0.4444444444444444,\"#bd3786\"],[0.5555555555555556,\"#d8576b\"],[0.6666666666666666,\"#ed7953\"],[0.7777777777777778,\"#fb9f3a\"],[0.8888888888888888,\"#fdca26\"],[1.0,\"#f0f921\"]]}],\"heatmapgl\":[{\"type\":\"heatmapgl\",\"colorbar\":{\"outlinewidth\":0,\"ticks\":\"\"},\"colorscale\":[[0.0,\"#0d0887\"],[0.1111111111111111,\"#46039f\"],[0.2222222222222222,\"#7201a8\"],[0.3333333333333333,\"#9c179e\"],[0.4444444444444444,\"#bd3786\"],[0.5555555555555556,\"#d8576b\"],[0.6666666666666666,\"#ed7953\"],[0.7777777777777778,\"#fb9f3a\"],[0.8888888888888888,\"#fdca26\"],[1.0,\"#f0f921\"]]}],\"contourcarpet\":[{\"type\":\"contourcarpet\",\"colorbar\":{\"outlinewidth\":0,\"ticks\":\"\"}}],\"contour\":[{\"type\":\"contour\",\"colorbar\":{\"outlinewidth\":0,\"ticks\":\"\"},\"colorscale\":[[0.0,\"#0d0887\"],[0.1111111111111111,\"#46039f\"],[0.2222222222222222,\"#7201a8\"],[0.3333333333333333,\"#9c179e\"],[0.4444444444444444,\"#bd3786\"],[0.5555555555555556,\"#d8576b\"],[0.6666666666666666,\"#ed7953\"],[0.7777777777777778,\"#fb9f3a\"],[0.8888888888888888,\"#fdca26\"],[1.0,\"#f0f921\"]]}],\"surface\":[{\"type\":\"surface\",\"colorbar\":{\"outlinewidth\":0,\"ticks\":\"\"},\"colorscale\":[[0.0,\"#0d0887\"],[0.1111111111111111,\"#46039f\"],[0.2222222222222222,\"#7201a8\"],[0.3333333333333333,\"#9c179e\"],[0.4444444444444444,\"#bd3786\"],[0.5555555555555556,\"#d8576b\"],[0.6666666666666666,\"#ed7953\"],[0.7777777777777778,\"#fb9f3a\"],[0.8888888888888888,\"#fdca26\"],[1.0,\"#f0f921\"]]}],\"mesh3d\":[{\"type\":\"mesh3d\",\"colorbar\":{\"outlinewidth\":0,\"ticks\":\"\"}}],\"scatter\":[{\"fillpattern\":{\"fillmode\":\"overlay\",\"size\":10,\"solidity\":0.2},\"type\":\"scatter\"}],\"parcoords\":[{\"type\":\"parcoords\",\"line\":{\"colorbar\":{\"outlinewidth\":0,\"ticks\":\"\"}}}],\"scatterpolargl\":[{\"type\":\"scatterpolargl\",\"marker\":{\"colorbar\":{\"outlinewidth\":0,\"ticks\":\"\"}}}],\"bar\":[{\"error_x\":{\"color\":\"#2a3f5f\"},\"error_y\":{\"color\":\"#2a3f5f\"},\"marker\":{\"line\":{\"color\":\"#E5ECF6\",\"width\":0.5},\"pattern\":{\"fillmode\":\"overlay\",\"size\":10,\"solidity\":0.2}},\"type\":\"bar\"}],\"scattergeo\":[{\"type\":\"scattergeo\",\"marker\":{\"colorbar\":{\"outlinewidth\":0,\"ticks\":\"\"}}}],\"scatterpolar\":[{\"type\":\"scatterpolar\",\"marker\":{\"colorbar\":{\"outlinewidth\":0,\"ticks\":\"\"}}}],\"histogram\":[{\"marker\":{\"pattern\":{\"fillmode\":\"overlay\",\"size\":10,\"solidity\":0.2}},\"type\":\"histogram\"}],\"scattergl\":[{\"type\":\"scattergl\",\"marker\":{\"colorbar\":{\"outlinewidth\":0,\"ticks\":\"\"}}}],\"scatter3d\":[{\"type\":\"scatter3d\",\"line\":{\"colorbar\":{\"outlinewidth\":0,\"ticks\":\"\"}},\"marker\":{\"colorbar\":{\"outlinewidth\":0,\"ticks\":\"\"}}}],\"scattermapbox\":[{\"type\":\"scattermapbox\",\"marker\":{\"colorbar\":{\"outlinewidth\":0,\"ticks\":\"\"}}}],\"scatterternary\":[{\"type\":\"scatterternary\",\"marker\":{\"colorbar\":{\"outlinewidth\":0,\"ticks\":\"\"}}}],\"scattercarpet\":[{\"type\":\"scattercarpet\",\"marker\":{\"colorbar\":{\"outlinewidth\":0,\"ticks\":\"\"}}}],\"carpet\":[{\"aaxis\":{\"endlinecolor\":\"#2a3f5f\",\"gridcolor\":\"white\",\"linecolor\":\"white\",\"minorgridcolor\":\"white\",\"startlinecolor\":\"#2a3f5f\"},\"baxis\":{\"endlinecolor\":\"#2a3f5f\",\"gridcolor\":\"white\",\"linecolor\":\"white\",\"minorgridcolor\":\"white\",\"startlinecolor\":\"#2a3f5f\"},\"type\":\"carpet\"}],\"table\":[{\"cells\":{\"fill\":{\"color\":\"#EBF0F8\"},\"line\":{\"color\":\"white\"}},\"header\":{\"fill\":{\"color\":\"#C8D4E3\"},\"line\":{\"color\":\"white\"}},\"type\":\"table\"}],\"barpolar\":[{\"marker\":{\"line\":{\"color\":\"#E5ECF6\",\"width\":0.5},\"pattern\":{\"fillmode\":\"overlay\",\"size\":10,\"solidity\":0.2}},\"type\":\"barpolar\"}],\"pie\":[{\"automargin\":true,\"type\":\"pie\"}]},\"layout\":{\"autotypenumbers\":\"strict\",\"colorway\":[\"#636efa\",\"#EF553B\",\"#00cc96\",\"#ab63fa\",\"#FFA15A\",\"#19d3f3\",\"#FF6692\",\"#B6E880\",\"#FF97FF\",\"#FECB52\"],\"font\":{\"color\":\"#2a3f5f\"},\"hovermode\":\"closest\",\"hoverlabel\":{\"align\":\"left\"},\"paper_bgcolor\":\"white\",\"plot_bgcolor\":\"#E5ECF6\",\"polar\":{\"bgcolor\":\"#E5ECF6\",\"angularaxis\":{\"gridcolor\":\"white\",\"linecolor\":\"white\",\"ticks\":\"\"},\"radialaxis\":{\"gridcolor\":\"white\",\"linecolor\":\"white\",\"ticks\":\"\"}},\"ternary\":{\"bgcolor\":\"#E5ECF6\",\"aaxis\":{\"gridcolor\":\"white\",\"linecolor\":\"white\",\"ticks\":\"\"},\"baxis\":{\"gridcolor\":\"white\",\"linecolor\":\"white\",\"ticks\":\"\"},\"caxis\":{\"gridcolor\":\"white\",\"linecolor\":\"white\",\"ticks\":\"\"}},\"coloraxis\":{\"colorbar\":{\"outlinewidth\":0,\"ticks\":\"\"}},\"colorscale\":{\"sequential\":[[0.0,\"#0d0887\"],[0.1111111111111111,\"#46039f\"],[0.2222222222222222,\"#7201a8\"],[0.3333333333333333,\"#9c179e\"],[0.4444444444444444,\"#bd3786\"],[0.5555555555555556,\"#d8576b\"],[0.6666666666666666,\"#ed7953\"],[0.7777777777777778,\"#fb9f3a\"],[0.8888888888888888,\"#fdca26\"],[1.0,\"#f0f921\"]],\"sequentialminus\":[[0.0,\"#0d0887\"],[0.1111111111111111,\"#46039f\"],[0.2222222222222222,\"#7201a8\"],[0.3333333333333333,\"#9c179e\"],[0.4444444444444444,\"#bd3786\"],[0.5555555555555556,\"#d8576b\"],[0.6666666666666666,\"#ed7953\"],[0.7777777777777778,\"#fb9f3a\"],[0.8888888888888888,\"#fdca26\"],[1.0,\"#f0f921\"]],\"diverging\":[[0,\"#8e0152\"],[0.1,\"#c51b7d\"],[0.2,\"#de77ae\"],[0.3,\"#f1b6da\"],[0.4,\"#fde0ef\"],[0.5,\"#f7f7f7\"],[0.6,\"#e6f5d0\"],[0.7,\"#b8e186\"],[0.8,\"#7fbc41\"],[0.9,\"#4d9221\"],[1,\"#276419\"]]},\"xaxis\":{\"gridcolor\":\"white\",\"linecolor\":\"white\",\"ticks\":\"\",\"title\":{\"standoff\":15},\"zerolinecolor\":\"white\",\"automargin\":true,\"zerolinewidth\":2},\"yaxis\":{\"gridcolor\":\"white\",\"linecolor\":\"white\",\"ticks\":\"\",\"title\":{\"standoff\":15},\"zerolinecolor\":\"white\",\"automargin\":true,\"zerolinewidth\":2},\"scene\":{\"xaxis\":{\"backgroundcolor\":\"#E5ECF6\",\"gridcolor\":\"white\",\"linecolor\":\"white\",\"showbackground\":true,\"ticks\":\"\",\"zerolinecolor\":\"white\",\"gridwidth\":2},\"yaxis\":{\"backgroundcolor\":\"#E5ECF6\",\"gridcolor\":\"white\",\"linecolor\":\"white\",\"showbackground\":true,\"ticks\":\"\",\"zerolinecolor\":\"white\",\"gridwidth\":2},\"zaxis\":{\"backgroundcolor\":\"#E5ECF6\",\"gridcolor\":\"white\",\"linecolor\":\"white\",\"showbackground\":true,\"ticks\":\"\",\"zerolinecolor\":\"white\",\"gridwidth\":2}},\"shapedefaults\":{\"line\":{\"color\":\"#2a3f5f\"}},\"annotationdefaults\":{\"arrowcolor\":\"#2a3f5f\",\"arrowhead\":0,\"arrowwidth\":1},\"geo\":{\"bgcolor\":\"white\",\"landcolor\":\"#E5ECF6\",\"subunitcolor\":\"white\",\"showland\":true,\"showlakes\":true,\"lakecolor\":\"white\"},\"title\":{\"x\":0.05},\"mapbox\":{\"style\":\"light\"}}},\"scene\":{\"domain\":{\"x\":[0.0,1.0],\"y\":[0.0,1.0]},\"xaxis\":{\"title\":{\"text\":\"x\"}},\"yaxis\":{\"title\":{\"text\":\"y\"}},\"zaxis\":{\"title\":{\"text\":\"z\"}}},\"legend\":{\"tracegroupgap\":0},\"margin\":{\"t\":60}},                        {\"responsive\": true}                    ).then(function(){\n",
              "                            \n",
              "var gd = document.getElementById('d42f962e-b56f-44e7-9901-ef4357a00a91');\n",
              "var x = new MutationObserver(function (mutations, observer) {{\n",
              "        var display = window.getComputedStyle(gd).display;\n",
              "        if (!display || display === 'none') {{\n",
              "            console.log([gd, 'removed!']);\n",
              "            Plotly.purge(gd);\n",
              "            observer.disconnect();\n",
              "        }}\n",
              "}});\n",
              "\n",
              "// Listen for the removal of the full notebook cells\n",
              "var notebookContainer = gd.closest('#notebook-container');\n",
              "if (notebookContainer) {{\n",
              "    x.observe(notebookContainer, {childList: true});\n",
              "}}\n",
              "\n",
              "// Listen for the clearing of the current output cell\n",
              "var outputEl = gd.closest('.output');\n",
              "if (outputEl) {{\n",
              "    x.observe(outputEl, {childList: true});\n",
              "}}\n",
              "\n",
              "                        })                };                            </script>        </div>\n",
              "</body>\n",
              "</html>"
            ]
          },
          "metadata": {}
        }
      ]
    },
    {
      "cell_type": "code",
      "source": [
        "lr = LinearRegression()\n",
        "lr.fit(np.array([x,y]).reshape(100,2),z)\n",
        "\n",
        "x_input = np.linspace(x.min(), x.max(), 10)\n",
        "y_input = np.linspace(y.min(), y.max(), 10)\n",
        "xGrid, yGrid = np.meshgrid(x_input,y_input)\n",
        "\n",
        "final = np.vstack((xGrid.ravel().reshape(1,100),yGrid.ravel().reshape(1,100))).T\n",
        "\n",
        "z_final = lr.predict(final).reshape(10,10)"
      ],
      "metadata": {
        "id": "RmPdd-66oIxG"
      },
      "execution_count": 25,
      "outputs": []
    },
    {
      "cell_type": "code",
      "source": [
        "#When we apply simple linear regression\n",
        "import plotly.graph_objects as go\n",
        "\n",
        "fig = px.scatter_3d(df, x=x.ravel(), y=y.ravel(), z=z.ravel())\n",
        "\n",
        "fig.add_trace(go.Surface(x = x_input, y = y_input, z =z_final ))\n",
        "\n",
        "fig.show()"
      ],
      "metadata": {
        "colab": {
          "base_uri": "https://localhost:8080/",
          "height": 542
        },
        "id": "8FVSS_VuoPJU",
        "outputId": "63dec281-d75f-4cd4-ce0b-5fa2bda325ca"
      },
      "execution_count": 26,
      "outputs": [
        {
          "output_type": "display_data",
          "data": {
            "text/html": [
              "<html>\n",
              "<head><meta charset=\"utf-8\" /></head>\n",
              "<body>\n",
              "    <div>            <script src=\"https://cdnjs.cloudflare.com/ajax/libs/mathjax/2.7.5/MathJax.js?config=TeX-AMS-MML_SVG\"></script><script type=\"text/javascript\">if (window.MathJax && window.MathJax.Hub && window.MathJax.Hub.Config) {window.MathJax.Hub.Config({SVG: {font: \"STIX-Web\"}});}</script>                <script type=\"text/javascript\">window.PlotlyConfig = {MathJaxConfig: 'local'};</script>\n",
              "        <script charset=\"utf-8\" src=\"https://cdn.plot.ly/plotly-2.24.1.min.js\"></script>                <div id=\"ebed5cbe-290e-41af-ab27-5c5c68934980\" class=\"plotly-graph-div\" style=\"height:525px; width:100%;\"></div>            <script type=\"text/javascript\">                                    window.PLOTLYENV=window.PLOTLYENV || {};                                    if (document.getElementById(\"ebed5cbe-290e-41af-ab27-5c5c68934980\")) {                    Plotly.newPlot(                        \"ebed5cbe-290e-41af-ab27-5c5c68934980\",                        [{\"hovertemplate\":\"x=%{x}\\u003cbr\\u003ey=%{y}\\u003cbr\\u003ez=%{z}\\u003cextra\\u003e\\u003c\\u002fextra\\u003e\",\"legendgroup\":\"\",\"marker\":{\"color\":\"#636efa\",\"symbol\":\"circle\"},\"mode\":\"markers\",\"name\":\"\",\"scene\":\"scene\",\"showlegend\":false,\"x\":[-1.572321136871631,0.000374635831355441,-2.522057248451837,-1.6644308089101814,2.8735804979623945,0.6541424832536658,-0.06227320327534924,2.985236626159211,-2.6060767607696897,0.5250689213561386,-0.5487149216064249,2.598913993478889,2.294337227452968,-0.4682280015390101,-0.02069683291228719,-2.7978452404870455,1.4047702625400458,0.39829309845036054,0.9218345720450496,-2.7657934448320733,-2.5689144514901345,1.9725604478902294,0.7930356554281657,3.4516102119698857,-1.0659029933181507,-1.1397118370748553,0.7276286829933745,1.3776573792489346,-2.5807453498291526,1.795209743186212,2.9421648506620057,2.4920040101864247,0.45697188826950397,3.141665336652281,4.1025416401753985,-0.8993428196270625,-2.1034648278776285,3.4678531075176764,-0.37380963262428013,3.5895456237065995,1.3975979922169097,1.079850145077704,1.8515371979919157,0.21609379483543956,-1.5308252286434272,3.7854408992038797,-1.40934429243513,2.526267303961924,-1.7434462788804004,3.7166345427800307,0.5621343738614542,4.104172930310648,-1.5124417799913217,3.899728592542318,1.014831855716272,-2.121018687618615,3.1807072952830913,-0.04771021358639782,1.7871790453213583,-1.7135095264187576,0.8819295011585027,-0.426771054555215,2.814606610718749,2.3168173297460886,3.3083207227729945,1.2783955999373342,3.334262710678683,-2.058617551832438,-2.6344462557181982,0.7280087605373549,2.721623219763625,-1.88434643388087,-0.9294805866517031,2.933733904358774,-1.2732080502125647,2.979575589356344,0.14833189153942428,3.2536861692134824,-0.19325841737813132,-2.4271099037353343,-1.3023670840211887,3.140553847215892,-0.2659267159109935,-0.9303920373690215,-0.8728802070391484,2.69492765831959,-2.1313495571120904,2.2040288811468534,2.3074262571606408,3.6028799621668526,-1.8214144432738981,2.1532228241033176,2.6408535134347435,2.330189491397598,0.9986120224778423,-1.7351530496116525,1.1293428996524355,3.336191139219083,4.008006203339949,3.7519714392715224],\"y\":[-2.4643113276783737,-2.308897783070163,1.2607803994263778,3.8159548344513494,3.7304410472607445,2.2375067328802816,0.01890963073312868,3.486400740195198,-2.74262579623136,0.8264629922689029,-0.05478823481649009,-1.1312979542175068,-1.8750835620465462,0.5255183388596003,2.197325535809651,-0.5040693611780149,2.4186270158757397,0.6892799729637442,3.894579247875095,1.411400988577033,3.6742096779729954,-1.1284993101253833,-0.8566610771551426,2.375481345186148,3.486056887002187,3.448472392966573,2.3766129187899407,3.6316857974156544,2.750633900236525,2.796375872552195,-1.062838275369189,-1.1766699067249473,3.81809830311619,3.566244548894427,-0.05803895225217692,-2.5160691375202586,3.9867869323433345,-0.757708528751456,-1.1073622044511868,2.571349545861934,2.5029000048231307,-2.165543003769079,1.8066209595632863,3.230873762713302,-2.214643430413789,1.2040363967864218,2.8968407811018366,0.09804254397866297,3.4725215015614905,-2.536761353775491,0.6332176382221846,2.326046274119106,-0.050271298693873145,-0.9074344675132657,3.4849919778472565,-0.4662297939758737,-1.336360330301514,0.527879779040449,0.10248283684065784,-0.7093788698034849,-2.7634155937915414,-2.751488458641842,-1.3476152028300206,2.8337416637810557,1.6063073022345629,2.9306792172446903,-1.2942343279549324,1.2476543060166128,2.370406705742062,1.6367326429667424,2.3130234244564214,0.5156389849413934,0.8939995884680285,-0.44042133737337874,1.3171137034206568,2.902985833075973,-1.895164855342168,3.035252805580754,1.28647530082206,2.019713940233607,0.8763224070677436,-2.0026819411656884,0.6739345618689243,1.1914124317234678,3.9873360063941936,2.6306825521190644,-0.4949991944626717,3.135105168231479,4.124409926018755,3.454749961618737,0.9330865460851863,3.125429042920545,2.345388698620522,3.4039404454737348,0.3316974801853405,0.7242662878735979,0.1984601445746792,-1.4868410670872567,2.161523698826004,-1.9405552732341957],\"z\":[10.538564017520791,6.013094409823752,9.690039393953967,20.185701286630625,27.38248059780589,7.928017798864784,1.7084118282745042,26.560329812417088,16.983292553031013,2.9206384450190503,1.8810266320317621,8.597200750105474,11.017019633162711,5.474596562555955,7.80274691076713,9.555708479370804,10.555931030852758,5.2666018512253014,17.99140618631354,10.297348668078078,21.382806740326412,5.2713114345669165,1.8785387137010725,22.382478074913305,15.405629086837514,15.858679815124232,9.326699904859725,20.23296327506579,16.858046961796354,13.810837656976098,12.481013596456927,8.250096249252902,15.956960288115807,26.058157876547803,18.408015213383017,9.047209778852258,22.602793323760903,13.133442366996512,2.3801704056167075,25.329059278193828,13.56577103246386,7.376539117772467,9.147846329057696,13.546750153217339,9.092927980027612,20.36108152688399,13.118003272574484,7.9762713076122065,18.676550647614242,20.13984713475363,2.49687855903875,26.95495151485228,5.7120390780881145,18.424921545421082,16.201595456582115,6.934158518616693,13.207313638972641,2.3868604859826146,5.3854083174512315,6.848765895076291,8.941352880474794,9.190302224179053,11.03541333233494,18.444291213310652,17.428824156099573,12.828913896349912,16.314034386606913,7.56526503360229,15.208683738989667,4.8753451946781645,15.181296608228251,7.146925828466456,3.3359175301667694,10.252808541224432,3.577657678356574,20.80889189911227,6.458454906917231,23.803832617518,3.838668001989807,10.91071667848819,4.826957543670724,16.158816929424948,0.9579945530574216,5.322656676122366,19.603030666974032,17.65953722755904,5.931285483486971,19.177683375694006,27.416487847341617,29.55720983471239,6.4393769103996235,17.8829873862418,14.87136455008886,18.78872924933789,4.061773508741798,5.076185565402836,1.6852849040937974,14.990337373468346,23.878629291550425,20.495302220823145],\"type\":\"scatter3d\"},{\"x\":[-2.7978452404870455,-2.030954332620635,-1.2640634247542246,-0.4971725168878143,0.2697183909785963,1.0366092988450069,1.803500206711417,2.5703911145778275,3.337282022444238,4.104172930310648],\"y\":[-2.7634155937915414,-1.998101647145953,-1.2327877005003645,-0.46747375385477596,0.29784019279081253,1.063154139436401,1.8284680860819895,2.593782032727578,3.3590959793731665,4.124409926018755],\"z\":[[11.5298459962851,11.520891241590263,11.511936486895427,11.50298173220059,11.494026977505753,11.485072222810917,11.47611746811608,11.467162713421242,11.458207958726407,11.449253204031569],[11.73778800683455,11.728833252139713,11.719878497444876,11.71092374275004,11.701968988055203,11.693014233360365,11.68405947866553,11.675104723970692,11.666149969275855,11.65719521458102],[11.945730017384,11.936775262689164,11.927820507994326,11.918865753299489,11.909910998604653,11.900956243909816,11.892001489214978,11.883046734520143,11.874091979825305,11.865137225130468],[12.15367202793345,12.144717273238612,12.135762518543777,12.126807763848939,12.117853009154102,12.108898254459266,12.099943499764429,12.090988745069591,12.082033990374756,12.073079235679918],[12.3616140384829,12.352659283788062,12.343704529093227,12.33474977439839,12.325795019703552,12.316840265008716,12.307885510313879,12.298930755619041,12.289976000924206,12.281021246229368],[12.56955604903235,12.560601294337513,12.551646539642675,12.54269178494784,12.533737030253002,12.524782275558165,12.51582752086333,12.506872766168492,12.497918011473654,12.488963256778819],[12.777498059581799,12.768543304886963,12.759588550192126,12.750633795497288,12.741679040802453,12.732724286107615,12.723769531412778,12.714814776717942,12.705860022023105,12.696905267328267],[12.985440070131249,12.976485315436411,12.967530560741576,12.958575806046738,12.949621051351901,12.940666296657065,12.931711541962228,12.922756787267392,12.913802032572555,12.904847277877717],[13.1933820806807,13.184427325985862,13.175472571291026,13.166517816596189,13.157563061901351,13.148608307206516,13.139653552511678,13.13069879781684,13.121744043122005,13.112789288427168],[13.40132409123015,13.392369336535312,13.383414581840475,13.374459827145639,13.365505072450802,13.356550317755964,13.347595563061128,13.338640808366291,13.329686053671454,13.320731298976618]],\"type\":\"surface\"}],                        {\"template\":{\"data\":{\"histogram2dcontour\":[{\"type\":\"histogram2dcontour\",\"colorbar\":{\"outlinewidth\":0,\"ticks\":\"\"},\"colorscale\":[[0.0,\"#0d0887\"],[0.1111111111111111,\"#46039f\"],[0.2222222222222222,\"#7201a8\"],[0.3333333333333333,\"#9c179e\"],[0.4444444444444444,\"#bd3786\"],[0.5555555555555556,\"#d8576b\"],[0.6666666666666666,\"#ed7953\"],[0.7777777777777778,\"#fb9f3a\"],[0.8888888888888888,\"#fdca26\"],[1.0,\"#f0f921\"]]}],\"choropleth\":[{\"type\":\"choropleth\",\"colorbar\":{\"outlinewidth\":0,\"ticks\":\"\"}}],\"histogram2d\":[{\"type\":\"histogram2d\",\"colorbar\":{\"outlinewidth\":0,\"ticks\":\"\"},\"colorscale\":[[0.0,\"#0d0887\"],[0.1111111111111111,\"#46039f\"],[0.2222222222222222,\"#7201a8\"],[0.3333333333333333,\"#9c179e\"],[0.4444444444444444,\"#bd3786\"],[0.5555555555555556,\"#d8576b\"],[0.6666666666666666,\"#ed7953\"],[0.7777777777777778,\"#fb9f3a\"],[0.8888888888888888,\"#fdca26\"],[1.0,\"#f0f921\"]]}],\"heatmap\":[{\"type\":\"heatmap\",\"colorbar\":{\"outlinewidth\":0,\"ticks\":\"\"},\"colorscale\":[[0.0,\"#0d0887\"],[0.1111111111111111,\"#46039f\"],[0.2222222222222222,\"#7201a8\"],[0.3333333333333333,\"#9c179e\"],[0.4444444444444444,\"#bd3786\"],[0.5555555555555556,\"#d8576b\"],[0.6666666666666666,\"#ed7953\"],[0.7777777777777778,\"#fb9f3a\"],[0.8888888888888888,\"#fdca26\"],[1.0,\"#f0f921\"]]}],\"heatmapgl\":[{\"type\":\"heatmapgl\",\"colorbar\":{\"outlinewidth\":0,\"ticks\":\"\"},\"colorscale\":[[0.0,\"#0d0887\"],[0.1111111111111111,\"#46039f\"],[0.2222222222222222,\"#7201a8\"],[0.3333333333333333,\"#9c179e\"],[0.4444444444444444,\"#bd3786\"],[0.5555555555555556,\"#d8576b\"],[0.6666666666666666,\"#ed7953\"],[0.7777777777777778,\"#fb9f3a\"],[0.8888888888888888,\"#fdca26\"],[1.0,\"#f0f921\"]]}],\"contourcarpet\":[{\"type\":\"contourcarpet\",\"colorbar\":{\"outlinewidth\":0,\"ticks\":\"\"}}],\"contour\":[{\"type\":\"contour\",\"colorbar\":{\"outlinewidth\":0,\"ticks\":\"\"},\"colorscale\":[[0.0,\"#0d0887\"],[0.1111111111111111,\"#46039f\"],[0.2222222222222222,\"#7201a8\"],[0.3333333333333333,\"#9c179e\"],[0.4444444444444444,\"#bd3786\"],[0.5555555555555556,\"#d8576b\"],[0.6666666666666666,\"#ed7953\"],[0.7777777777777778,\"#fb9f3a\"],[0.8888888888888888,\"#fdca26\"],[1.0,\"#f0f921\"]]}],\"surface\":[{\"type\":\"surface\",\"colorbar\":{\"outlinewidth\":0,\"ticks\":\"\"},\"colorscale\":[[0.0,\"#0d0887\"],[0.1111111111111111,\"#46039f\"],[0.2222222222222222,\"#7201a8\"],[0.3333333333333333,\"#9c179e\"],[0.4444444444444444,\"#bd3786\"],[0.5555555555555556,\"#d8576b\"],[0.6666666666666666,\"#ed7953\"],[0.7777777777777778,\"#fb9f3a\"],[0.8888888888888888,\"#fdca26\"],[1.0,\"#f0f921\"]]}],\"mesh3d\":[{\"type\":\"mesh3d\",\"colorbar\":{\"outlinewidth\":0,\"ticks\":\"\"}}],\"scatter\":[{\"fillpattern\":{\"fillmode\":\"overlay\",\"size\":10,\"solidity\":0.2},\"type\":\"scatter\"}],\"parcoords\":[{\"type\":\"parcoords\",\"line\":{\"colorbar\":{\"outlinewidth\":0,\"ticks\":\"\"}}}],\"scatterpolargl\":[{\"type\":\"scatterpolargl\",\"marker\":{\"colorbar\":{\"outlinewidth\":0,\"ticks\":\"\"}}}],\"bar\":[{\"error_x\":{\"color\":\"#2a3f5f\"},\"error_y\":{\"color\":\"#2a3f5f\"},\"marker\":{\"line\":{\"color\":\"#E5ECF6\",\"width\":0.5},\"pattern\":{\"fillmode\":\"overlay\",\"size\":10,\"solidity\":0.2}},\"type\":\"bar\"}],\"scattergeo\":[{\"type\":\"scattergeo\",\"marker\":{\"colorbar\":{\"outlinewidth\":0,\"ticks\":\"\"}}}],\"scatterpolar\":[{\"type\":\"scatterpolar\",\"marker\":{\"colorbar\":{\"outlinewidth\":0,\"ticks\":\"\"}}}],\"histogram\":[{\"marker\":{\"pattern\":{\"fillmode\":\"overlay\",\"size\":10,\"solidity\":0.2}},\"type\":\"histogram\"}],\"scattergl\":[{\"type\":\"scattergl\",\"marker\":{\"colorbar\":{\"outlinewidth\":0,\"ticks\":\"\"}}}],\"scatter3d\":[{\"type\":\"scatter3d\",\"line\":{\"colorbar\":{\"outlinewidth\":0,\"ticks\":\"\"}},\"marker\":{\"colorbar\":{\"outlinewidth\":0,\"ticks\":\"\"}}}],\"scattermapbox\":[{\"type\":\"scattermapbox\",\"marker\":{\"colorbar\":{\"outlinewidth\":0,\"ticks\":\"\"}}}],\"scatterternary\":[{\"type\":\"scatterternary\",\"marker\":{\"colorbar\":{\"outlinewidth\":0,\"ticks\":\"\"}}}],\"scattercarpet\":[{\"type\":\"scattercarpet\",\"marker\":{\"colorbar\":{\"outlinewidth\":0,\"ticks\":\"\"}}}],\"carpet\":[{\"aaxis\":{\"endlinecolor\":\"#2a3f5f\",\"gridcolor\":\"white\",\"linecolor\":\"white\",\"minorgridcolor\":\"white\",\"startlinecolor\":\"#2a3f5f\"},\"baxis\":{\"endlinecolor\":\"#2a3f5f\",\"gridcolor\":\"white\",\"linecolor\":\"white\",\"minorgridcolor\":\"white\",\"startlinecolor\":\"#2a3f5f\"},\"type\":\"carpet\"}],\"table\":[{\"cells\":{\"fill\":{\"color\":\"#EBF0F8\"},\"line\":{\"color\":\"white\"}},\"header\":{\"fill\":{\"color\":\"#C8D4E3\"},\"line\":{\"color\":\"white\"}},\"type\":\"table\"}],\"barpolar\":[{\"marker\":{\"line\":{\"color\":\"#E5ECF6\",\"width\":0.5},\"pattern\":{\"fillmode\":\"overlay\",\"size\":10,\"solidity\":0.2}},\"type\":\"barpolar\"}],\"pie\":[{\"automargin\":true,\"type\":\"pie\"}]},\"layout\":{\"autotypenumbers\":\"strict\",\"colorway\":[\"#636efa\",\"#EF553B\",\"#00cc96\",\"#ab63fa\",\"#FFA15A\",\"#19d3f3\",\"#FF6692\",\"#B6E880\",\"#FF97FF\",\"#FECB52\"],\"font\":{\"color\":\"#2a3f5f\"},\"hovermode\":\"closest\",\"hoverlabel\":{\"align\":\"left\"},\"paper_bgcolor\":\"white\",\"plot_bgcolor\":\"#E5ECF6\",\"polar\":{\"bgcolor\":\"#E5ECF6\",\"angularaxis\":{\"gridcolor\":\"white\",\"linecolor\":\"white\",\"ticks\":\"\"},\"radialaxis\":{\"gridcolor\":\"white\",\"linecolor\":\"white\",\"ticks\":\"\"}},\"ternary\":{\"bgcolor\":\"#E5ECF6\",\"aaxis\":{\"gridcolor\":\"white\",\"linecolor\":\"white\",\"ticks\":\"\"},\"baxis\":{\"gridcolor\":\"white\",\"linecolor\":\"white\",\"ticks\":\"\"},\"caxis\":{\"gridcolor\":\"white\",\"linecolor\":\"white\",\"ticks\":\"\"}},\"coloraxis\":{\"colorbar\":{\"outlinewidth\":0,\"ticks\":\"\"}},\"colorscale\":{\"sequential\":[[0.0,\"#0d0887\"],[0.1111111111111111,\"#46039f\"],[0.2222222222222222,\"#7201a8\"],[0.3333333333333333,\"#9c179e\"],[0.4444444444444444,\"#bd3786\"],[0.5555555555555556,\"#d8576b\"],[0.6666666666666666,\"#ed7953\"],[0.7777777777777778,\"#fb9f3a\"],[0.8888888888888888,\"#fdca26\"],[1.0,\"#f0f921\"]],\"sequentialminus\":[[0.0,\"#0d0887\"],[0.1111111111111111,\"#46039f\"],[0.2222222222222222,\"#7201a8\"],[0.3333333333333333,\"#9c179e\"],[0.4444444444444444,\"#bd3786\"],[0.5555555555555556,\"#d8576b\"],[0.6666666666666666,\"#ed7953\"],[0.7777777777777778,\"#fb9f3a\"],[0.8888888888888888,\"#fdca26\"],[1.0,\"#f0f921\"]],\"diverging\":[[0,\"#8e0152\"],[0.1,\"#c51b7d\"],[0.2,\"#de77ae\"],[0.3,\"#f1b6da\"],[0.4,\"#fde0ef\"],[0.5,\"#f7f7f7\"],[0.6,\"#e6f5d0\"],[0.7,\"#b8e186\"],[0.8,\"#7fbc41\"],[0.9,\"#4d9221\"],[1,\"#276419\"]]},\"xaxis\":{\"gridcolor\":\"white\",\"linecolor\":\"white\",\"ticks\":\"\",\"title\":{\"standoff\":15},\"zerolinecolor\":\"white\",\"automargin\":true,\"zerolinewidth\":2},\"yaxis\":{\"gridcolor\":\"white\",\"linecolor\":\"white\",\"ticks\":\"\",\"title\":{\"standoff\":15},\"zerolinecolor\":\"white\",\"automargin\":true,\"zerolinewidth\":2},\"scene\":{\"xaxis\":{\"backgroundcolor\":\"#E5ECF6\",\"gridcolor\":\"white\",\"linecolor\":\"white\",\"showbackground\":true,\"ticks\":\"\",\"zerolinecolor\":\"white\",\"gridwidth\":2},\"yaxis\":{\"backgroundcolor\":\"#E5ECF6\",\"gridcolor\":\"white\",\"linecolor\":\"white\",\"showbackground\":true,\"ticks\":\"\",\"zerolinecolor\":\"white\",\"gridwidth\":2},\"zaxis\":{\"backgroundcolor\":\"#E5ECF6\",\"gridcolor\":\"white\",\"linecolor\":\"white\",\"showbackground\":true,\"ticks\":\"\",\"zerolinecolor\":\"white\",\"gridwidth\":2}},\"shapedefaults\":{\"line\":{\"color\":\"#2a3f5f\"}},\"annotationdefaults\":{\"arrowcolor\":\"#2a3f5f\",\"arrowhead\":0,\"arrowwidth\":1},\"geo\":{\"bgcolor\":\"white\",\"landcolor\":\"#E5ECF6\",\"subunitcolor\":\"white\",\"showland\":true,\"showlakes\":true,\"lakecolor\":\"white\"},\"title\":{\"x\":0.05},\"mapbox\":{\"style\":\"light\"}}},\"scene\":{\"domain\":{\"x\":[0.0,1.0],\"y\":[0.0,1.0]},\"xaxis\":{\"title\":{\"text\":\"x\"}},\"yaxis\":{\"title\":{\"text\":\"y\"}},\"zaxis\":{\"title\":{\"text\":\"z\"}}},\"legend\":{\"tracegroupgap\":0},\"margin\":{\"t\":60}},                        {\"responsive\": true}                    ).then(function(){\n",
              "                            \n",
              "var gd = document.getElementById('ebed5cbe-290e-41af-ab27-5c5c68934980');\n",
              "var x = new MutationObserver(function (mutations, observer) {{\n",
              "        var display = window.getComputedStyle(gd).display;\n",
              "        if (!display || display === 'none') {{\n",
              "            console.log([gd, 'removed!']);\n",
              "            Plotly.purge(gd);\n",
              "            observer.disconnect();\n",
              "        }}\n",
              "}});\n",
              "\n",
              "// Listen for the removal of the full notebook cells\n",
              "var notebookContainer = gd.closest('#notebook-container');\n",
              "if (notebookContainer) {{\n",
              "    x.observe(notebookContainer, {childList: true});\n",
              "}}\n",
              "\n",
              "// Listen for the clearing of the current output cell\n",
              "var outputEl = gd.closest('.output');\n",
              "if (outputEl) {{\n",
              "    x.observe(outputEl, {childList: true});\n",
              "}}\n",
              "\n",
              "                        })                };                            </script>        </div>\n",
              "</body>\n",
              "</html>"
            ]
          },
          "metadata": {}
        }
      ]
    },
    {
      "cell_type": "code",
      "source": [
        "X_multi = np.array([x,y]).reshape(100,2)\n",
        "X_multi.shape"
      ],
      "metadata": {
        "colab": {
          "base_uri": "https://localhost:8080/"
        },
        "id": "E9IZ8QKvoUuE",
        "outputId": "8cf43162-fee0-4df4-f368-9aaf18607c9a"
      },
      "execution_count": 27,
      "outputs": [
        {
          "output_type": "execute_result",
          "data": {
            "text/plain": [
              "(100, 2)"
            ]
          },
          "metadata": {},
          "execution_count": 27
        }
      ]
    },
    {
      "cell_type": "code",
      "source": [
        "poly = PolynomialFeatures(degree=30)\n",
        "X_multi_trans = poly.fit_transform(X_multi)"
      ],
      "metadata": {
        "id": "TihWcIvmoguq"
      },
      "execution_count": 30,
      "outputs": []
    },
    {
      "cell_type": "code",
      "source": [
        "print(\"Input\",poly.n_features_in_)\n",
        "print(\"Ouput\",poly.n_output_features_)\n",
        "print(\"Powers\\n\",poly.powers_)"
      ],
      "metadata": {
        "colab": {
          "base_uri": "https://localhost:8080/"
        },
        "id": "lW1zkiFioilj",
        "outputId": "1ec4ade0-4bc1-42d7-cab3-17a2bece1d06"
      },
      "execution_count": 32,
      "outputs": [
        {
          "output_type": "stream",
          "name": "stdout",
          "text": [
            "Input 2\n",
            "Ouput 496\n",
            "Powers\n",
            " [[ 0  0]\n",
            " [ 1  0]\n",
            " [ 0  1]\n",
            " [ 2  0]\n",
            " [ 1  1]\n",
            " [ 0  2]\n",
            " [ 3  0]\n",
            " [ 2  1]\n",
            " [ 1  2]\n",
            " [ 0  3]\n",
            " [ 4  0]\n",
            " [ 3  1]\n",
            " [ 2  2]\n",
            " [ 1  3]\n",
            " [ 0  4]\n",
            " [ 5  0]\n",
            " [ 4  1]\n",
            " [ 3  2]\n",
            " [ 2  3]\n",
            " [ 1  4]\n",
            " [ 0  5]\n",
            " [ 6  0]\n",
            " [ 5  1]\n",
            " [ 4  2]\n",
            " [ 3  3]\n",
            " [ 2  4]\n",
            " [ 1  5]\n",
            " [ 0  6]\n",
            " [ 7  0]\n",
            " [ 6  1]\n",
            " [ 5  2]\n",
            " [ 4  3]\n",
            " [ 3  4]\n",
            " [ 2  5]\n",
            " [ 1  6]\n",
            " [ 0  7]\n",
            " [ 8  0]\n",
            " [ 7  1]\n",
            " [ 6  2]\n",
            " [ 5  3]\n",
            " [ 4  4]\n",
            " [ 3  5]\n",
            " [ 2  6]\n",
            " [ 1  7]\n",
            " [ 0  8]\n",
            " [ 9  0]\n",
            " [ 8  1]\n",
            " [ 7  2]\n",
            " [ 6  3]\n",
            " [ 5  4]\n",
            " [ 4  5]\n",
            " [ 3  6]\n",
            " [ 2  7]\n",
            " [ 1  8]\n",
            " [ 0  9]\n",
            " [10  0]\n",
            " [ 9  1]\n",
            " [ 8  2]\n",
            " [ 7  3]\n",
            " [ 6  4]\n",
            " [ 5  5]\n",
            " [ 4  6]\n",
            " [ 3  7]\n",
            " [ 2  8]\n",
            " [ 1  9]\n",
            " [ 0 10]\n",
            " [11  0]\n",
            " [10  1]\n",
            " [ 9  2]\n",
            " [ 8  3]\n",
            " [ 7  4]\n",
            " [ 6  5]\n",
            " [ 5  6]\n",
            " [ 4  7]\n",
            " [ 3  8]\n",
            " [ 2  9]\n",
            " [ 1 10]\n",
            " [ 0 11]\n",
            " [12  0]\n",
            " [11  1]\n",
            " [10  2]\n",
            " [ 9  3]\n",
            " [ 8  4]\n",
            " [ 7  5]\n",
            " [ 6  6]\n",
            " [ 5  7]\n",
            " [ 4  8]\n",
            " [ 3  9]\n",
            " [ 2 10]\n",
            " [ 1 11]\n",
            " [ 0 12]\n",
            " [13  0]\n",
            " [12  1]\n",
            " [11  2]\n",
            " [10  3]\n",
            " [ 9  4]\n",
            " [ 8  5]\n",
            " [ 7  6]\n",
            " [ 6  7]\n",
            " [ 5  8]\n",
            " [ 4  9]\n",
            " [ 3 10]\n",
            " [ 2 11]\n",
            " [ 1 12]\n",
            " [ 0 13]\n",
            " [14  0]\n",
            " [13  1]\n",
            " [12  2]\n",
            " [11  3]\n",
            " [10  4]\n",
            " [ 9  5]\n",
            " [ 8  6]\n",
            " [ 7  7]\n",
            " [ 6  8]\n",
            " [ 5  9]\n",
            " [ 4 10]\n",
            " [ 3 11]\n",
            " [ 2 12]\n",
            " [ 1 13]\n",
            " [ 0 14]\n",
            " [15  0]\n",
            " [14  1]\n",
            " [13  2]\n",
            " [12  3]\n",
            " [11  4]\n",
            " [10  5]\n",
            " [ 9  6]\n",
            " [ 8  7]\n",
            " [ 7  8]\n",
            " [ 6  9]\n",
            " [ 5 10]\n",
            " [ 4 11]\n",
            " [ 3 12]\n",
            " [ 2 13]\n",
            " [ 1 14]\n",
            " [ 0 15]\n",
            " [16  0]\n",
            " [15  1]\n",
            " [14  2]\n",
            " [13  3]\n",
            " [12  4]\n",
            " [11  5]\n",
            " [10  6]\n",
            " [ 9  7]\n",
            " [ 8  8]\n",
            " [ 7  9]\n",
            " [ 6 10]\n",
            " [ 5 11]\n",
            " [ 4 12]\n",
            " [ 3 13]\n",
            " [ 2 14]\n",
            " [ 1 15]\n",
            " [ 0 16]\n",
            " [17  0]\n",
            " [16  1]\n",
            " [15  2]\n",
            " [14  3]\n",
            " [13  4]\n",
            " [12  5]\n",
            " [11  6]\n",
            " [10  7]\n",
            " [ 9  8]\n",
            " [ 8  9]\n",
            " [ 7 10]\n",
            " [ 6 11]\n",
            " [ 5 12]\n",
            " [ 4 13]\n",
            " [ 3 14]\n",
            " [ 2 15]\n",
            " [ 1 16]\n",
            " [ 0 17]\n",
            " [18  0]\n",
            " [17  1]\n",
            " [16  2]\n",
            " [15  3]\n",
            " [14  4]\n",
            " [13  5]\n",
            " [12  6]\n",
            " [11  7]\n",
            " [10  8]\n",
            " [ 9  9]\n",
            " [ 8 10]\n",
            " [ 7 11]\n",
            " [ 6 12]\n",
            " [ 5 13]\n",
            " [ 4 14]\n",
            " [ 3 15]\n",
            " [ 2 16]\n",
            " [ 1 17]\n",
            " [ 0 18]\n",
            " [19  0]\n",
            " [18  1]\n",
            " [17  2]\n",
            " [16  3]\n",
            " [15  4]\n",
            " [14  5]\n",
            " [13  6]\n",
            " [12  7]\n",
            " [11  8]\n",
            " [10  9]\n",
            " [ 9 10]\n",
            " [ 8 11]\n",
            " [ 7 12]\n",
            " [ 6 13]\n",
            " [ 5 14]\n",
            " [ 4 15]\n",
            " [ 3 16]\n",
            " [ 2 17]\n",
            " [ 1 18]\n",
            " [ 0 19]\n",
            " [20  0]\n",
            " [19  1]\n",
            " [18  2]\n",
            " [17  3]\n",
            " [16  4]\n",
            " [15  5]\n",
            " [14  6]\n",
            " [13  7]\n",
            " [12  8]\n",
            " [11  9]\n",
            " [10 10]\n",
            " [ 9 11]\n",
            " [ 8 12]\n",
            " [ 7 13]\n",
            " [ 6 14]\n",
            " [ 5 15]\n",
            " [ 4 16]\n",
            " [ 3 17]\n",
            " [ 2 18]\n",
            " [ 1 19]\n",
            " [ 0 20]\n",
            " [21  0]\n",
            " [20  1]\n",
            " [19  2]\n",
            " [18  3]\n",
            " [17  4]\n",
            " [16  5]\n",
            " [15  6]\n",
            " [14  7]\n",
            " [13  8]\n",
            " [12  9]\n",
            " [11 10]\n",
            " [10 11]\n",
            " [ 9 12]\n",
            " [ 8 13]\n",
            " [ 7 14]\n",
            " [ 6 15]\n",
            " [ 5 16]\n",
            " [ 4 17]\n",
            " [ 3 18]\n",
            " [ 2 19]\n",
            " [ 1 20]\n",
            " [ 0 21]\n",
            " [22  0]\n",
            " [21  1]\n",
            " [20  2]\n",
            " [19  3]\n",
            " [18  4]\n",
            " [17  5]\n",
            " [16  6]\n",
            " [15  7]\n",
            " [14  8]\n",
            " [13  9]\n",
            " [12 10]\n",
            " [11 11]\n",
            " [10 12]\n",
            " [ 9 13]\n",
            " [ 8 14]\n",
            " [ 7 15]\n",
            " [ 6 16]\n",
            " [ 5 17]\n",
            " [ 4 18]\n",
            " [ 3 19]\n",
            " [ 2 20]\n",
            " [ 1 21]\n",
            " [ 0 22]\n",
            " [23  0]\n",
            " [22  1]\n",
            " [21  2]\n",
            " [20  3]\n",
            " [19  4]\n",
            " [18  5]\n",
            " [17  6]\n",
            " [16  7]\n",
            " [15  8]\n",
            " [14  9]\n",
            " [13 10]\n",
            " [12 11]\n",
            " [11 12]\n",
            " [10 13]\n",
            " [ 9 14]\n",
            " [ 8 15]\n",
            " [ 7 16]\n",
            " [ 6 17]\n",
            " [ 5 18]\n",
            " [ 4 19]\n",
            " [ 3 20]\n",
            " [ 2 21]\n",
            " [ 1 22]\n",
            " [ 0 23]\n",
            " [24  0]\n",
            " [23  1]\n",
            " [22  2]\n",
            " [21  3]\n",
            " [20  4]\n",
            " [19  5]\n",
            " [18  6]\n",
            " [17  7]\n",
            " [16  8]\n",
            " [15  9]\n",
            " [14 10]\n",
            " [13 11]\n",
            " [12 12]\n",
            " [11 13]\n",
            " [10 14]\n",
            " [ 9 15]\n",
            " [ 8 16]\n",
            " [ 7 17]\n",
            " [ 6 18]\n",
            " [ 5 19]\n",
            " [ 4 20]\n",
            " [ 3 21]\n",
            " [ 2 22]\n",
            " [ 1 23]\n",
            " [ 0 24]\n",
            " [25  0]\n",
            " [24  1]\n",
            " [23  2]\n",
            " [22  3]\n",
            " [21  4]\n",
            " [20  5]\n",
            " [19  6]\n",
            " [18  7]\n",
            " [17  8]\n",
            " [16  9]\n",
            " [15 10]\n",
            " [14 11]\n",
            " [13 12]\n",
            " [12 13]\n",
            " [11 14]\n",
            " [10 15]\n",
            " [ 9 16]\n",
            " [ 8 17]\n",
            " [ 7 18]\n",
            " [ 6 19]\n",
            " [ 5 20]\n",
            " [ 4 21]\n",
            " [ 3 22]\n",
            " [ 2 23]\n",
            " [ 1 24]\n",
            " [ 0 25]\n",
            " [26  0]\n",
            " [25  1]\n",
            " [24  2]\n",
            " [23  3]\n",
            " [22  4]\n",
            " [21  5]\n",
            " [20  6]\n",
            " [19  7]\n",
            " [18  8]\n",
            " [17  9]\n",
            " [16 10]\n",
            " [15 11]\n",
            " [14 12]\n",
            " [13 13]\n",
            " [12 14]\n",
            " [11 15]\n",
            " [10 16]\n",
            " [ 9 17]\n",
            " [ 8 18]\n",
            " [ 7 19]\n",
            " [ 6 20]\n",
            " [ 5 21]\n",
            " [ 4 22]\n",
            " [ 3 23]\n",
            " [ 2 24]\n",
            " [ 1 25]\n",
            " [ 0 26]\n",
            " [27  0]\n",
            " [26  1]\n",
            " [25  2]\n",
            " [24  3]\n",
            " [23  4]\n",
            " [22  5]\n",
            " [21  6]\n",
            " [20  7]\n",
            " [19  8]\n",
            " [18  9]\n",
            " [17 10]\n",
            " [16 11]\n",
            " [15 12]\n",
            " [14 13]\n",
            " [13 14]\n",
            " [12 15]\n",
            " [11 16]\n",
            " [10 17]\n",
            " [ 9 18]\n",
            " [ 8 19]\n",
            " [ 7 20]\n",
            " [ 6 21]\n",
            " [ 5 22]\n",
            " [ 4 23]\n",
            " [ 3 24]\n",
            " [ 2 25]\n",
            " [ 1 26]\n",
            " [ 0 27]\n",
            " [28  0]\n",
            " [27  1]\n",
            " [26  2]\n",
            " [25  3]\n",
            " [24  4]\n",
            " [23  5]\n",
            " [22  6]\n",
            " [21  7]\n",
            " [20  8]\n",
            " [19  9]\n",
            " [18 10]\n",
            " [17 11]\n",
            " [16 12]\n",
            " [15 13]\n",
            " [14 14]\n",
            " [13 15]\n",
            " [12 16]\n",
            " [11 17]\n",
            " [10 18]\n",
            " [ 9 19]\n",
            " [ 8 20]\n",
            " [ 7 21]\n",
            " [ 6 22]\n",
            " [ 5 23]\n",
            " [ 4 24]\n",
            " [ 3 25]\n",
            " [ 2 26]\n",
            " [ 1 27]\n",
            " [ 0 28]\n",
            " [29  0]\n",
            " [28  1]\n",
            " [27  2]\n",
            " [26  3]\n",
            " [25  4]\n",
            " [24  5]\n",
            " [23  6]\n",
            " [22  7]\n",
            " [21  8]\n",
            " [20  9]\n",
            " [19 10]\n",
            " [18 11]\n",
            " [17 12]\n",
            " [16 13]\n",
            " [15 14]\n",
            " [14 15]\n",
            " [13 16]\n",
            " [12 17]\n",
            " [11 18]\n",
            " [10 19]\n",
            " [ 9 20]\n",
            " [ 8 21]\n",
            " [ 7 22]\n",
            " [ 6 23]\n",
            " [ 5 24]\n",
            " [ 4 25]\n",
            " [ 3 26]\n",
            " [ 2 27]\n",
            " [ 1 28]\n",
            " [ 0 29]\n",
            " [30  0]\n",
            " [29  1]\n",
            " [28  2]\n",
            " [27  3]\n",
            " [26  4]\n",
            " [25  5]\n",
            " [24  6]\n",
            " [23  7]\n",
            " [22  8]\n",
            " [21  9]\n",
            " [20 10]\n",
            " [19 11]\n",
            " [18 12]\n",
            " [17 13]\n",
            " [16 14]\n",
            " [15 15]\n",
            " [14 16]\n",
            " [13 17]\n",
            " [12 18]\n",
            " [11 19]\n",
            " [10 20]\n",
            " [ 9 21]\n",
            " [ 8 22]\n",
            " [ 7 23]\n",
            " [ 6 24]\n",
            " [ 5 25]\n",
            " [ 4 26]\n",
            " [ 3 27]\n",
            " [ 2 28]\n",
            " [ 1 29]\n",
            " [ 0 30]]\n"
          ]
        }
      ]
    },
    {
      "cell_type": "code",
      "source": [
        "X_multi_trans.shape"
      ],
      "metadata": {
        "colab": {
          "base_uri": "https://localhost:8080/"
        },
        "id": "618CrPaYolh7",
        "outputId": "df9b6451-0941-40f3-a444-e5a7c9bc5aee"
      },
      "execution_count": 33,
      "outputs": [
        {
          "output_type": "execute_result",
          "data": {
            "text/plain": [
              "(100, 496)"
            ]
          },
          "metadata": {},
          "execution_count": 33
        }
      ]
    },
    {
      "cell_type": "code",
      "source": [
        "lr = LinearRegression()\n",
        "lr.fit(X_multi_trans,z)"
      ],
      "metadata": {
        "colab": {
          "base_uri": "https://localhost:8080/",
          "height": 74
        },
        "id": "bLbze8T3o15M",
        "outputId": "e159d43b-7829-4bd4-871c-37ff0ced7c66"
      },
      "execution_count": 34,
      "outputs": [
        {
          "output_type": "execute_result",
          "data": {
            "text/plain": [
              "LinearRegression()"
            ],
            "text/html": [
              "<style>#sk-container-id-3 {color: black;background-color: white;}#sk-container-id-3 pre{padding: 0;}#sk-container-id-3 div.sk-toggleable {background-color: white;}#sk-container-id-3 label.sk-toggleable__label {cursor: pointer;display: block;width: 100%;margin-bottom: 0;padding: 0.3em;box-sizing: border-box;text-align: center;}#sk-container-id-3 label.sk-toggleable__label-arrow:before {content: \"▸\";float: left;margin-right: 0.25em;color: #696969;}#sk-container-id-3 label.sk-toggleable__label-arrow:hover:before {color: black;}#sk-container-id-3 div.sk-estimator:hover label.sk-toggleable__label-arrow:before {color: black;}#sk-container-id-3 div.sk-toggleable__content {max-height: 0;max-width: 0;overflow: hidden;text-align: left;background-color: #f0f8ff;}#sk-container-id-3 div.sk-toggleable__content pre {margin: 0.2em;color: black;border-radius: 0.25em;background-color: #f0f8ff;}#sk-container-id-3 input.sk-toggleable__control:checked~div.sk-toggleable__content {max-height: 200px;max-width: 100%;overflow: auto;}#sk-container-id-3 input.sk-toggleable__control:checked~label.sk-toggleable__label-arrow:before {content: \"▾\";}#sk-container-id-3 div.sk-estimator input.sk-toggleable__control:checked~label.sk-toggleable__label {background-color: #d4ebff;}#sk-container-id-3 div.sk-label input.sk-toggleable__control:checked~label.sk-toggleable__label {background-color: #d4ebff;}#sk-container-id-3 input.sk-hidden--visually {border: 0;clip: rect(1px 1px 1px 1px);clip: rect(1px, 1px, 1px, 1px);height: 1px;margin: -1px;overflow: hidden;padding: 0;position: absolute;width: 1px;}#sk-container-id-3 div.sk-estimator {font-family: monospace;background-color: #f0f8ff;border: 1px dotted black;border-radius: 0.25em;box-sizing: border-box;margin-bottom: 0.5em;}#sk-container-id-3 div.sk-estimator:hover {background-color: #d4ebff;}#sk-container-id-3 div.sk-parallel-item::after {content: \"\";width: 100%;border-bottom: 1px solid gray;flex-grow: 1;}#sk-container-id-3 div.sk-label:hover label.sk-toggleable__label {background-color: #d4ebff;}#sk-container-id-3 div.sk-serial::before {content: \"\";position: absolute;border-left: 1px solid gray;box-sizing: border-box;top: 0;bottom: 0;left: 50%;z-index: 0;}#sk-container-id-3 div.sk-serial {display: flex;flex-direction: column;align-items: center;background-color: white;padding-right: 0.2em;padding-left: 0.2em;position: relative;}#sk-container-id-3 div.sk-item {position: relative;z-index: 1;}#sk-container-id-3 div.sk-parallel {display: flex;align-items: stretch;justify-content: center;background-color: white;position: relative;}#sk-container-id-3 div.sk-item::before, #sk-container-id-3 div.sk-parallel-item::before {content: \"\";position: absolute;border-left: 1px solid gray;box-sizing: border-box;top: 0;bottom: 0;left: 50%;z-index: -1;}#sk-container-id-3 div.sk-parallel-item {display: flex;flex-direction: column;z-index: 1;position: relative;background-color: white;}#sk-container-id-3 div.sk-parallel-item:first-child::after {align-self: flex-end;width: 50%;}#sk-container-id-3 div.sk-parallel-item:last-child::after {align-self: flex-start;width: 50%;}#sk-container-id-3 div.sk-parallel-item:only-child::after {width: 0;}#sk-container-id-3 div.sk-dashed-wrapped {border: 1px dashed gray;margin: 0 0.4em 0.5em 0.4em;box-sizing: border-box;padding-bottom: 0.4em;background-color: white;}#sk-container-id-3 div.sk-label label {font-family: monospace;font-weight: bold;display: inline-block;line-height: 1.2em;}#sk-container-id-3 div.sk-label-container {text-align: center;}#sk-container-id-3 div.sk-container {/* jupyter's `normalize.less` sets `[hidden] { display: none; }` but bootstrap.min.css set `[hidden] { display: none !important; }` so we also need the `!important` here to be able to override the default hidden behavior on the sphinx rendered scikit-learn.org. See: https://github.com/scikit-learn/scikit-learn/issues/21755 */display: inline-block !important;position: relative;}#sk-container-id-3 div.sk-text-repr-fallback {display: none;}</style><div id=\"sk-container-id-3\" class=\"sk-top-container\"><div class=\"sk-text-repr-fallback\"><pre>LinearRegression()</pre><b>In a Jupyter environment, please rerun this cell to show the HTML representation or trust the notebook. <br />On GitHub, the HTML representation is unable to render, please try loading this page with nbviewer.org.</b></div><div class=\"sk-container\" hidden><div class=\"sk-item\"><div class=\"sk-estimator sk-toggleable\"><input class=\"sk-toggleable__control sk-hidden--visually\" id=\"sk-estimator-id-3\" type=\"checkbox\" checked><label for=\"sk-estimator-id-3\" class=\"sk-toggleable__label sk-toggleable__label-arrow\">LinearRegression</label><div class=\"sk-toggleable__content\"><pre>LinearRegression()</pre></div></div></div></div></div>"
            ]
          },
          "metadata": {},
          "execution_count": 34
        }
      ]
    },
    {
      "cell_type": "code",
      "source": [
        "z_final = lr.predict(X_multi_trans).reshape(10,10)"
      ],
      "metadata": {
        "id": "Ty1lb3JBo4HG"
      },
      "execution_count": 35,
      "outputs": []
    },
    {
      "cell_type": "code",
      "source": [
        "fig = px.scatter_3d(x=x.ravel(), y=y.ravel(), z=z.ravel())\n",
        "\n",
        "fig.add_trace(go.Surface(x = x_input, y = y_input, z =z_final))\n",
        "\n",
        "fig.update_layout(scene = dict(zaxis = dict(range=[0,35])))\n",
        "\n",
        "fig.show()"
      ],
      "metadata": {
        "colab": {
          "base_uri": "https://localhost:8080/",
          "height": 542
        },
        "id": "Pa8GpOUyo6cQ",
        "outputId": "8d0f304f-1584-4a51-e72b-3986034c831e"
      },
      "execution_count": 36,
      "outputs": [
        {
          "output_type": "display_data",
          "data": {
            "text/html": [
              "<html>\n",
              "<head><meta charset=\"utf-8\" /></head>\n",
              "<body>\n",
              "    <div>            <script src=\"https://cdnjs.cloudflare.com/ajax/libs/mathjax/2.7.5/MathJax.js?config=TeX-AMS-MML_SVG\"></script><script type=\"text/javascript\">if (window.MathJax && window.MathJax.Hub && window.MathJax.Hub.Config) {window.MathJax.Hub.Config({SVG: {font: \"STIX-Web\"}});}</script>                <script type=\"text/javascript\">window.PlotlyConfig = {MathJaxConfig: 'local'};</script>\n",
              "        <script charset=\"utf-8\" src=\"https://cdn.plot.ly/plotly-2.24.1.min.js\"></script>                <div id=\"812e8124-1649-423c-9c7d-51bd101a1c83\" class=\"plotly-graph-div\" style=\"height:525px; width:100%;\"></div>            <script type=\"text/javascript\">                                    window.PLOTLYENV=window.PLOTLYENV || {};                                    if (document.getElementById(\"812e8124-1649-423c-9c7d-51bd101a1c83\")) {                    Plotly.newPlot(                        \"812e8124-1649-423c-9c7d-51bd101a1c83\",                        [{\"hovertemplate\":\"x=%{x}\\u003cbr\\u003ey=%{y}\\u003cbr\\u003ez=%{z}\\u003cextra\\u003e\\u003c\\u002fextra\\u003e\",\"legendgroup\":\"\",\"marker\":{\"color\":\"#636efa\",\"symbol\":\"circle\"},\"mode\":\"markers\",\"name\":\"\",\"scene\":\"scene\",\"showlegend\":false,\"x\":[-1.572321136871631,0.000374635831355441,-2.522057248451837,-1.6644308089101814,2.8735804979623945,0.6541424832536658,-0.06227320327534924,2.985236626159211,-2.6060767607696897,0.5250689213561386,-0.5487149216064249,2.598913993478889,2.294337227452968,-0.4682280015390101,-0.02069683291228719,-2.7978452404870455,1.4047702625400458,0.39829309845036054,0.9218345720450496,-2.7657934448320733,-2.5689144514901345,1.9725604478902294,0.7930356554281657,3.4516102119698857,-1.0659029933181507,-1.1397118370748553,0.7276286829933745,1.3776573792489346,-2.5807453498291526,1.795209743186212,2.9421648506620057,2.4920040101864247,0.45697188826950397,3.141665336652281,4.1025416401753985,-0.8993428196270625,-2.1034648278776285,3.4678531075176764,-0.37380963262428013,3.5895456237065995,1.3975979922169097,1.079850145077704,1.8515371979919157,0.21609379483543956,-1.5308252286434272,3.7854408992038797,-1.40934429243513,2.526267303961924,-1.7434462788804004,3.7166345427800307,0.5621343738614542,4.104172930310648,-1.5124417799913217,3.899728592542318,1.014831855716272,-2.121018687618615,3.1807072952830913,-0.04771021358639782,1.7871790453213583,-1.7135095264187576,0.8819295011585027,-0.426771054555215,2.814606610718749,2.3168173297460886,3.3083207227729945,1.2783955999373342,3.334262710678683,-2.058617551832438,-2.6344462557181982,0.7280087605373549,2.721623219763625,-1.88434643388087,-0.9294805866517031,2.933733904358774,-1.2732080502125647,2.979575589356344,0.14833189153942428,3.2536861692134824,-0.19325841737813132,-2.4271099037353343,-1.3023670840211887,3.140553847215892,-0.2659267159109935,-0.9303920373690215,-0.8728802070391484,2.69492765831959,-2.1313495571120904,2.2040288811468534,2.3074262571606408,3.6028799621668526,-1.8214144432738981,2.1532228241033176,2.6408535134347435,2.330189491397598,0.9986120224778423,-1.7351530496116525,1.1293428996524355,3.336191139219083,4.008006203339949,3.7519714392715224],\"y\":[-2.4643113276783737,-2.308897783070163,1.2607803994263778,3.8159548344513494,3.7304410472607445,2.2375067328802816,0.01890963073312868,3.486400740195198,-2.74262579623136,0.8264629922689029,-0.05478823481649009,-1.1312979542175068,-1.8750835620465462,0.5255183388596003,2.197325535809651,-0.5040693611780149,2.4186270158757397,0.6892799729637442,3.894579247875095,1.411400988577033,3.6742096779729954,-1.1284993101253833,-0.8566610771551426,2.375481345186148,3.486056887002187,3.448472392966573,2.3766129187899407,3.6316857974156544,2.750633900236525,2.796375872552195,-1.062838275369189,-1.1766699067249473,3.81809830311619,3.566244548894427,-0.05803895225217692,-2.5160691375202586,3.9867869323433345,-0.757708528751456,-1.1073622044511868,2.571349545861934,2.5029000048231307,-2.165543003769079,1.8066209595632863,3.230873762713302,-2.214643430413789,1.2040363967864218,2.8968407811018366,0.09804254397866297,3.4725215015614905,-2.536761353775491,0.6332176382221846,2.326046274119106,-0.050271298693873145,-0.9074344675132657,3.4849919778472565,-0.4662297939758737,-1.336360330301514,0.527879779040449,0.10248283684065784,-0.7093788698034849,-2.7634155937915414,-2.751488458641842,-1.3476152028300206,2.8337416637810557,1.6063073022345629,2.9306792172446903,-1.2942343279549324,1.2476543060166128,2.370406705742062,1.6367326429667424,2.3130234244564214,0.5156389849413934,0.8939995884680285,-0.44042133737337874,1.3171137034206568,2.902985833075973,-1.895164855342168,3.035252805580754,1.28647530082206,2.019713940233607,0.8763224070677436,-2.0026819411656884,0.6739345618689243,1.1914124317234678,3.9873360063941936,2.6306825521190644,-0.4949991944626717,3.135105168231479,4.124409926018755,3.454749961618737,0.9330865460851863,3.125429042920545,2.345388698620522,3.4039404454737348,0.3316974801853405,0.7242662878735979,0.1984601445746792,-1.4868410670872567,2.161523698826004,-1.9405552732341957],\"z\":[10.538564017520791,6.013094409823752,9.690039393953967,20.185701286630625,27.38248059780589,7.928017798864784,1.7084118282745042,26.560329812417088,16.983292553031013,2.9206384450190503,1.8810266320317621,8.597200750105474,11.017019633162711,5.474596562555955,7.80274691076713,9.555708479370804,10.555931030852758,5.2666018512253014,17.99140618631354,10.297348668078078,21.382806740326412,5.2713114345669165,1.8785387137010725,22.382478074913305,15.405629086837514,15.858679815124232,9.326699904859725,20.23296327506579,16.858046961796354,13.810837656976098,12.481013596456927,8.250096249252902,15.956960288115807,26.058157876547803,18.408015213383017,9.047209778852258,22.602793323760903,13.133442366996512,2.3801704056167075,25.329059278193828,13.56577103246386,7.376539117772467,9.147846329057696,13.546750153217339,9.092927980027612,20.36108152688399,13.118003272574484,7.9762713076122065,18.676550647614242,20.13984713475363,2.49687855903875,26.95495151485228,5.7120390780881145,18.424921545421082,16.201595456582115,6.934158518616693,13.207313638972641,2.3868604859826146,5.3854083174512315,6.848765895076291,8.941352880474794,9.190302224179053,11.03541333233494,18.444291213310652,17.428824156099573,12.828913896349912,16.314034386606913,7.56526503360229,15.208683738989667,4.8753451946781645,15.181296608228251,7.146925828466456,3.3359175301667694,10.252808541224432,3.577657678356574,20.80889189911227,6.458454906917231,23.803832617518,3.838668001989807,10.91071667848819,4.826957543670724,16.158816929424948,0.9579945530574216,5.322656676122366,19.603030666974032,17.65953722755904,5.931285483486971,19.177683375694006,27.416487847341617,29.55720983471239,6.4393769103996235,17.8829873862418,14.87136455008886,18.78872924933789,4.061773508741798,5.076185565402836,1.6852849040937974,14.990337373468346,23.878629291550425,20.495302220823145],\"type\":\"scatter3d\"},{\"x\":[-2.7978452404870455,-2.030954332620635,-1.2640634247542246,-0.4971725168878143,0.2697183909785963,1.0366092988450069,1.803500206711417,2.5703911145778275,3.337282022444238,4.104172930310648],\"y\":[-2.7634155937915414,-1.998101647145953,-1.2327877005003645,-0.46747375385477596,0.29784019279081253,1.063154139436401,1.8284680860819895,2.593782032727578,3.3590959793731665,4.124409926018755],\"z\":[[10.497712469532377,6.092382237972149,9.682857510359415,20.154007856459746,27.388005203293094,7.923999834531376,1.7070832164193668,26.561607484431395,12.588566999766385,2.9213203533603043],[1.881636951775679,8.599970360012183,10.071268152849074,9.745995298700405,7.803470392437109,9.556974668712744,10.556673635454306,4.967842836589941,17.994545717449316,10.305100221843848],[22.3789996034623,5.246837021988515,1.9119956686211914,22.382579677463898,15.425575990886816,16.31159283658994,9.413399477214941,20.231576589607673,16.858645875663886,13.800934427399941],[10.018515367080534,8.250238437862524,15.956983347149023,26.05803753873838,18.40780232167376,9.047737796516547,22.603159104199538,13.135043044300208,2.3814915611459107,25.32993608685715],[13.566728372783789,10.019086193677158,9.148541920544037,13.54721385480875,9.101204652996191,20.3611052649961,13.117904995293745,8.261492629306847,18.67740084669126,20.15900494596494],[2.496051971526274,26.994477052898535,5.695931215496191,18.42883946439756,16.201835420639643,10.060859793116235,13.208379258256489,2.388551966951443,5.385389627847278,6.805428285808691],[8.932167787761816,9.193356548132531,11.044991274089941,18.45575787565244,17.42895843526853,10.106492090144462,16.31134869596494,7.5665206030992955,15.102974672527441,4.873815739718655],[15.18189349463714,7.147223253460059,3.3370760073470116,10.253293831558356,3.5771568014336914,20.809528228668885,10.018799859368205,23.802617807598242,9.593087353841332,10.01837066512236],[4.8285725309563965,16.159417395205626,0.9582300080968231,4.933505116586627,19.60347030750049,17.66098078723221,10.018546903355043,19.178492043824324,27.4174704744531,29.5589052347153],[6.434099286884109,10.000064064720858,14.757637758464941,18.789101143093237,3.7840049459649414,5.077057023258337,1.6876685812188477,10.018363913267995,23.920772598659994,20.495393443811142]],\"type\":\"surface\"}],                        {\"template\":{\"data\":{\"histogram2dcontour\":[{\"type\":\"histogram2dcontour\",\"colorbar\":{\"outlinewidth\":0,\"ticks\":\"\"},\"colorscale\":[[0.0,\"#0d0887\"],[0.1111111111111111,\"#46039f\"],[0.2222222222222222,\"#7201a8\"],[0.3333333333333333,\"#9c179e\"],[0.4444444444444444,\"#bd3786\"],[0.5555555555555556,\"#d8576b\"],[0.6666666666666666,\"#ed7953\"],[0.7777777777777778,\"#fb9f3a\"],[0.8888888888888888,\"#fdca26\"],[1.0,\"#f0f921\"]]}],\"choropleth\":[{\"type\":\"choropleth\",\"colorbar\":{\"outlinewidth\":0,\"ticks\":\"\"}}],\"histogram2d\":[{\"type\":\"histogram2d\",\"colorbar\":{\"outlinewidth\":0,\"ticks\":\"\"},\"colorscale\":[[0.0,\"#0d0887\"],[0.1111111111111111,\"#46039f\"],[0.2222222222222222,\"#7201a8\"],[0.3333333333333333,\"#9c179e\"],[0.4444444444444444,\"#bd3786\"],[0.5555555555555556,\"#d8576b\"],[0.6666666666666666,\"#ed7953\"],[0.7777777777777778,\"#fb9f3a\"],[0.8888888888888888,\"#fdca26\"],[1.0,\"#f0f921\"]]}],\"heatmap\":[{\"type\":\"heatmap\",\"colorbar\":{\"outlinewidth\":0,\"ticks\":\"\"},\"colorscale\":[[0.0,\"#0d0887\"],[0.1111111111111111,\"#46039f\"],[0.2222222222222222,\"#7201a8\"],[0.3333333333333333,\"#9c179e\"],[0.4444444444444444,\"#bd3786\"],[0.5555555555555556,\"#d8576b\"],[0.6666666666666666,\"#ed7953\"],[0.7777777777777778,\"#fb9f3a\"],[0.8888888888888888,\"#fdca26\"],[1.0,\"#f0f921\"]]}],\"heatmapgl\":[{\"type\":\"heatmapgl\",\"colorbar\":{\"outlinewidth\":0,\"ticks\":\"\"},\"colorscale\":[[0.0,\"#0d0887\"],[0.1111111111111111,\"#46039f\"],[0.2222222222222222,\"#7201a8\"],[0.3333333333333333,\"#9c179e\"],[0.4444444444444444,\"#bd3786\"],[0.5555555555555556,\"#d8576b\"],[0.6666666666666666,\"#ed7953\"],[0.7777777777777778,\"#fb9f3a\"],[0.8888888888888888,\"#fdca26\"],[1.0,\"#f0f921\"]]}],\"contourcarpet\":[{\"type\":\"contourcarpet\",\"colorbar\":{\"outlinewidth\":0,\"ticks\":\"\"}}],\"contour\":[{\"type\":\"contour\",\"colorbar\":{\"outlinewidth\":0,\"ticks\":\"\"},\"colorscale\":[[0.0,\"#0d0887\"],[0.1111111111111111,\"#46039f\"],[0.2222222222222222,\"#7201a8\"],[0.3333333333333333,\"#9c179e\"],[0.4444444444444444,\"#bd3786\"],[0.5555555555555556,\"#d8576b\"],[0.6666666666666666,\"#ed7953\"],[0.7777777777777778,\"#fb9f3a\"],[0.8888888888888888,\"#fdca26\"],[1.0,\"#f0f921\"]]}],\"surface\":[{\"type\":\"surface\",\"colorbar\":{\"outlinewidth\":0,\"ticks\":\"\"},\"colorscale\":[[0.0,\"#0d0887\"],[0.1111111111111111,\"#46039f\"],[0.2222222222222222,\"#7201a8\"],[0.3333333333333333,\"#9c179e\"],[0.4444444444444444,\"#bd3786\"],[0.5555555555555556,\"#d8576b\"],[0.6666666666666666,\"#ed7953\"],[0.7777777777777778,\"#fb9f3a\"],[0.8888888888888888,\"#fdca26\"],[1.0,\"#f0f921\"]]}],\"mesh3d\":[{\"type\":\"mesh3d\",\"colorbar\":{\"outlinewidth\":0,\"ticks\":\"\"}}],\"scatter\":[{\"fillpattern\":{\"fillmode\":\"overlay\",\"size\":10,\"solidity\":0.2},\"type\":\"scatter\"}],\"parcoords\":[{\"type\":\"parcoords\",\"line\":{\"colorbar\":{\"outlinewidth\":0,\"ticks\":\"\"}}}],\"scatterpolargl\":[{\"type\":\"scatterpolargl\",\"marker\":{\"colorbar\":{\"outlinewidth\":0,\"ticks\":\"\"}}}],\"bar\":[{\"error_x\":{\"color\":\"#2a3f5f\"},\"error_y\":{\"color\":\"#2a3f5f\"},\"marker\":{\"line\":{\"color\":\"#E5ECF6\",\"width\":0.5},\"pattern\":{\"fillmode\":\"overlay\",\"size\":10,\"solidity\":0.2}},\"type\":\"bar\"}],\"scattergeo\":[{\"type\":\"scattergeo\",\"marker\":{\"colorbar\":{\"outlinewidth\":0,\"ticks\":\"\"}}}],\"scatterpolar\":[{\"type\":\"scatterpolar\",\"marker\":{\"colorbar\":{\"outlinewidth\":0,\"ticks\":\"\"}}}],\"histogram\":[{\"marker\":{\"pattern\":{\"fillmode\":\"overlay\",\"size\":10,\"solidity\":0.2}},\"type\":\"histogram\"}],\"scattergl\":[{\"type\":\"scattergl\",\"marker\":{\"colorbar\":{\"outlinewidth\":0,\"ticks\":\"\"}}}],\"scatter3d\":[{\"type\":\"scatter3d\",\"line\":{\"colorbar\":{\"outlinewidth\":0,\"ticks\":\"\"}},\"marker\":{\"colorbar\":{\"outlinewidth\":0,\"ticks\":\"\"}}}],\"scattermapbox\":[{\"type\":\"scattermapbox\",\"marker\":{\"colorbar\":{\"outlinewidth\":0,\"ticks\":\"\"}}}],\"scatterternary\":[{\"type\":\"scatterternary\",\"marker\":{\"colorbar\":{\"outlinewidth\":0,\"ticks\":\"\"}}}],\"scattercarpet\":[{\"type\":\"scattercarpet\",\"marker\":{\"colorbar\":{\"outlinewidth\":0,\"ticks\":\"\"}}}],\"carpet\":[{\"aaxis\":{\"endlinecolor\":\"#2a3f5f\",\"gridcolor\":\"white\",\"linecolor\":\"white\",\"minorgridcolor\":\"white\",\"startlinecolor\":\"#2a3f5f\"},\"baxis\":{\"endlinecolor\":\"#2a3f5f\",\"gridcolor\":\"white\",\"linecolor\":\"white\",\"minorgridcolor\":\"white\",\"startlinecolor\":\"#2a3f5f\"},\"type\":\"carpet\"}],\"table\":[{\"cells\":{\"fill\":{\"color\":\"#EBF0F8\"},\"line\":{\"color\":\"white\"}},\"header\":{\"fill\":{\"color\":\"#C8D4E3\"},\"line\":{\"color\":\"white\"}},\"type\":\"table\"}],\"barpolar\":[{\"marker\":{\"line\":{\"color\":\"#E5ECF6\",\"width\":0.5},\"pattern\":{\"fillmode\":\"overlay\",\"size\":10,\"solidity\":0.2}},\"type\":\"barpolar\"}],\"pie\":[{\"automargin\":true,\"type\":\"pie\"}]},\"layout\":{\"autotypenumbers\":\"strict\",\"colorway\":[\"#636efa\",\"#EF553B\",\"#00cc96\",\"#ab63fa\",\"#FFA15A\",\"#19d3f3\",\"#FF6692\",\"#B6E880\",\"#FF97FF\",\"#FECB52\"],\"font\":{\"color\":\"#2a3f5f\"},\"hovermode\":\"closest\",\"hoverlabel\":{\"align\":\"left\"},\"paper_bgcolor\":\"white\",\"plot_bgcolor\":\"#E5ECF6\",\"polar\":{\"bgcolor\":\"#E5ECF6\",\"angularaxis\":{\"gridcolor\":\"white\",\"linecolor\":\"white\",\"ticks\":\"\"},\"radialaxis\":{\"gridcolor\":\"white\",\"linecolor\":\"white\",\"ticks\":\"\"}},\"ternary\":{\"bgcolor\":\"#E5ECF6\",\"aaxis\":{\"gridcolor\":\"white\",\"linecolor\":\"white\",\"ticks\":\"\"},\"baxis\":{\"gridcolor\":\"white\",\"linecolor\":\"white\",\"ticks\":\"\"},\"caxis\":{\"gridcolor\":\"white\",\"linecolor\":\"white\",\"ticks\":\"\"}},\"coloraxis\":{\"colorbar\":{\"outlinewidth\":0,\"ticks\":\"\"}},\"colorscale\":{\"sequential\":[[0.0,\"#0d0887\"],[0.1111111111111111,\"#46039f\"],[0.2222222222222222,\"#7201a8\"],[0.3333333333333333,\"#9c179e\"],[0.4444444444444444,\"#bd3786\"],[0.5555555555555556,\"#d8576b\"],[0.6666666666666666,\"#ed7953\"],[0.7777777777777778,\"#fb9f3a\"],[0.8888888888888888,\"#fdca26\"],[1.0,\"#f0f921\"]],\"sequentialminus\":[[0.0,\"#0d0887\"],[0.1111111111111111,\"#46039f\"],[0.2222222222222222,\"#7201a8\"],[0.3333333333333333,\"#9c179e\"],[0.4444444444444444,\"#bd3786\"],[0.5555555555555556,\"#d8576b\"],[0.6666666666666666,\"#ed7953\"],[0.7777777777777778,\"#fb9f3a\"],[0.8888888888888888,\"#fdca26\"],[1.0,\"#f0f921\"]],\"diverging\":[[0,\"#8e0152\"],[0.1,\"#c51b7d\"],[0.2,\"#de77ae\"],[0.3,\"#f1b6da\"],[0.4,\"#fde0ef\"],[0.5,\"#f7f7f7\"],[0.6,\"#e6f5d0\"],[0.7,\"#b8e186\"],[0.8,\"#7fbc41\"],[0.9,\"#4d9221\"],[1,\"#276419\"]]},\"xaxis\":{\"gridcolor\":\"white\",\"linecolor\":\"white\",\"ticks\":\"\",\"title\":{\"standoff\":15},\"zerolinecolor\":\"white\",\"automargin\":true,\"zerolinewidth\":2},\"yaxis\":{\"gridcolor\":\"white\",\"linecolor\":\"white\",\"ticks\":\"\",\"title\":{\"standoff\":15},\"zerolinecolor\":\"white\",\"automargin\":true,\"zerolinewidth\":2},\"scene\":{\"xaxis\":{\"backgroundcolor\":\"#E5ECF6\",\"gridcolor\":\"white\",\"linecolor\":\"white\",\"showbackground\":true,\"ticks\":\"\",\"zerolinecolor\":\"white\",\"gridwidth\":2},\"yaxis\":{\"backgroundcolor\":\"#E5ECF6\",\"gridcolor\":\"white\",\"linecolor\":\"white\",\"showbackground\":true,\"ticks\":\"\",\"zerolinecolor\":\"white\",\"gridwidth\":2},\"zaxis\":{\"backgroundcolor\":\"#E5ECF6\",\"gridcolor\":\"white\",\"linecolor\":\"white\",\"showbackground\":true,\"ticks\":\"\",\"zerolinecolor\":\"white\",\"gridwidth\":2}},\"shapedefaults\":{\"line\":{\"color\":\"#2a3f5f\"}},\"annotationdefaults\":{\"arrowcolor\":\"#2a3f5f\",\"arrowhead\":0,\"arrowwidth\":1},\"geo\":{\"bgcolor\":\"white\",\"landcolor\":\"#E5ECF6\",\"subunitcolor\":\"white\",\"showland\":true,\"showlakes\":true,\"lakecolor\":\"white\"},\"title\":{\"x\":0.05},\"mapbox\":{\"style\":\"light\"}}},\"scene\":{\"domain\":{\"x\":[0.0,1.0],\"y\":[0.0,1.0]},\"xaxis\":{\"title\":{\"text\":\"x\"}},\"yaxis\":{\"title\":{\"text\":\"y\"}},\"zaxis\":{\"title\":{\"text\":\"z\"},\"range\":[0,35]}},\"legend\":{\"tracegroupgap\":0},\"margin\":{\"t\":60}},                        {\"responsive\": true}                    ).then(function(){\n",
              "                            \n",
              "var gd = document.getElementById('812e8124-1649-423c-9c7d-51bd101a1c83');\n",
              "var x = new MutationObserver(function (mutations, observer) {{\n",
              "        var display = window.getComputedStyle(gd).display;\n",
              "        if (!display || display === 'none') {{\n",
              "            console.log([gd, 'removed!']);\n",
              "            Plotly.purge(gd);\n",
              "            observer.disconnect();\n",
              "        }}\n",
              "}});\n",
              "\n",
              "// Listen for the removal of the full notebook cells\n",
              "var notebookContainer = gd.closest('#notebook-container');\n",
              "if (notebookContainer) {{\n",
              "    x.observe(notebookContainer, {childList: true});\n",
              "}}\n",
              "\n",
              "// Listen for the clearing of the current output cell\n",
              "var outputEl = gd.closest('.output');\n",
              "if (outputEl) {{\n",
              "    x.observe(outputEl, {childList: true});\n",
              "}}\n",
              "\n",
              "                        })                };                            </script>        </div>\n",
              "</body>\n",
              "</html>"
            ]
          },
          "metadata": {}
        }
      ]
    },
    {
      "cell_type": "code",
      "source": [],
      "metadata": {
        "id": "Dga64ldto8xb"
      },
      "execution_count": null,
      "outputs": []
    }
  ]
}